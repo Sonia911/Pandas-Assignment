{
 "cells": [
  {
   "cell_type": "code",
   "execution_count": 1,
   "id": "f45744e4",
   "metadata": {},
   "outputs": [],
   "source": [
    "import numpy as np\n",
    "import pandas as pd\n",
    "import os\n"
   ]
  },
  {
   "cell_type": "code",
   "execution_count": 2,
   "id": "d7050c54",
   "metadata": {},
   "outputs": [
    {
     "data": {
      "text/plain": [
       "'C:\\\\Users\\\\91965\\\\Desktop'"
      ]
     },
     "execution_count": 2,
     "metadata": {},
     "output_type": "execute_result"
    }
   ],
   "source": [
    "os.getcwd()"
   ]
  },
  {
   "cell_type": "code",
   "execution_count": 3,
   "id": "e3c3113a",
   "metadata": {},
   "outputs": [],
   "source": [
    "os.chdir(\"C:/Users\\91965\\Desktop\\PANDAS READ DATA\\PANDAS READ FILE WITH  DATA\")"
   ]
  },
  {
   "cell_type": "code",
   "execution_count": 4,
   "id": "818b05ef",
   "metadata": {},
   "outputs": [
    {
     "data": {
      "text/plain": [
       "'csv_mindex.csv'"
      ]
     },
     "execution_count": 4,
     "metadata": {},
     "output_type": "execute_result"
    }
   ],
   "source": [
    "os.listdir()[3]"
   ]
  },
  {
   "cell_type": "code",
   "execution_count": 5,
   "id": "3fa48508",
   "metadata": {},
   "outputs": [],
   "source": [
    "# to read json file\n",
    "\n",
    "a=pd.read_json(\"employee_data.json\")"
   ]
  },
  {
   "cell_type": "code",
   "execution_count": 6,
   "id": "9911d2d1",
   "metadata": {},
   "outputs": [
    {
     "data": {
      "text/html": [
       "<div>\n",
       "<style scoped>\n",
       "    .dataframe tbody tr th:only-of-type {\n",
       "        vertical-align: middle;\n",
       "    }\n",
       "\n",
       "    .dataframe tbody tr th {\n",
       "        vertical-align: top;\n",
       "    }\n",
       "\n",
       "    .dataframe thead th {\n",
       "        text-align: right;\n",
       "    }\n",
       "</style>\n",
       "<table border=\"1\" class=\"dataframe\">\n",
       "  <thead>\n",
       "    <tr style=\"text-align: right;\">\n",
       "      <th></th>\n",
       "      <th>features</th>\n",
       "    </tr>\n",
       "  </thead>\n",
       "  <tbody>\n",
       "    <tr>\n",
       "      <th>0</th>\n",
       "      <td>{'candidate': {'first_name': 'Margaret', 'last...</td>\n",
       "    </tr>\n",
       "    <tr>\n",
       "      <th>1</th>\n",
       "      <td>{'candidate': {'first_name': 'Michael', 'last_...</td>\n",
       "    </tr>\n",
       "    <tr>\n",
       "      <th>2</th>\n",
       "      <td>{'candidate': {'first_name': 'Brenda', 'last_n...</td>\n",
       "    </tr>\n",
       "    <tr>\n",
       "      <th>3</th>\n",
       "      <td>{'candidate': {'first_name': 'Joseph', 'last_n...</td>\n",
       "    </tr>\n",
       "    <tr>\n",
       "      <th>4</th>\n",
       "      <td>{'candidate': {'first_name': 'Laura', 'last_na...</td>\n",
       "    </tr>\n",
       "    <tr>\n",
       "      <th>...</th>\n",
       "      <td>...</td>\n",
       "    </tr>\n",
       "    <tr>\n",
       "      <th>495</th>\n",
       "      <td>{'candidate': {'first_name': 'Robert', 'last_n...</td>\n",
       "    </tr>\n",
       "    <tr>\n",
       "      <th>496</th>\n",
       "      <td>{'candidate': {'first_name': 'Lucas', 'last_na...</td>\n",
       "    </tr>\n",
       "    <tr>\n",
       "      <th>497</th>\n",
       "      <td>{'candidate': {'first_name': 'Kimberly', 'last...</td>\n",
       "    </tr>\n",
       "    <tr>\n",
       "      <th>498</th>\n",
       "      <td>{'candidate': {'first_name': 'Karla', 'last_na...</td>\n",
       "    </tr>\n",
       "    <tr>\n",
       "      <th>499</th>\n",
       "      <td>{'candidate': {'first_name': 'Mrs.', 'last_nam...</td>\n",
       "    </tr>\n",
       "  </tbody>\n",
       "</table>\n",
       "<p>500 rows × 1 columns</p>\n",
       "</div>"
      ],
      "text/plain": [
       "                                              features\n",
       "0    {'candidate': {'first_name': 'Margaret', 'last...\n",
       "1    {'candidate': {'first_name': 'Michael', 'last_...\n",
       "2    {'candidate': {'first_name': 'Brenda', 'last_n...\n",
       "3    {'candidate': {'first_name': 'Joseph', 'last_n...\n",
       "4    {'candidate': {'first_name': 'Laura', 'last_na...\n",
       "..                                                 ...\n",
       "495  {'candidate': {'first_name': 'Robert', 'last_n...\n",
       "496  {'candidate': {'first_name': 'Lucas', 'last_na...\n",
       "497  {'candidate': {'first_name': 'Kimberly', 'last...\n",
       "498  {'candidate': {'first_name': 'Karla', 'last_na...\n",
       "499  {'candidate': {'first_name': 'Mrs.', 'last_nam...\n",
       "\n",
       "[500 rows x 1 columns]"
      ]
     },
     "execution_count": 6,
     "metadata": {},
     "output_type": "execute_result"
    }
   ],
   "source": [
    "a"
   ]
  },
  {
   "cell_type": "code",
   "execution_count": 7,
   "id": "68f27a84",
   "metadata": {},
   "outputs": [],
   "source": [
    "# to convert json file into tabular format:\n",
    "\n",
    "c=pd.DataFrame([(i[\"candidate\"])for i in a[\"features\"]])"
   ]
  },
  {
   "cell_type": "code",
   "execution_count": 8,
   "id": "b18c2f8e",
   "metadata": {},
   "outputs": [
    {
     "data": {
      "text/html": [
       "<div>\n",
       "<style scoped>\n",
       "    .dataframe tbody tr th:only-of-type {\n",
       "        vertical-align: middle;\n",
       "    }\n",
       "\n",
       "    .dataframe tbody tr th {\n",
       "        vertical-align: top;\n",
       "    }\n",
       "\n",
       "    .dataframe thead th {\n",
       "        text-align: right;\n",
       "    }\n",
       "</style>\n",
       "<table border=\"1\" class=\"dataframe\">\n",
       "  <thead>\n",
       "    <tr style=\"text-align: right;\">\n",
       "      <th></th>\n",
       "      <th>first_name</th>\n",
       "      <th>last_name</th>\n",
       "      <th>skills</th>\n",
       "      <th>state</th>\n",
       "      <th>specialty</th>\n",
       "      <th>experience</th>\n",
       "      <th>relocation</th>\n",
       "    </tr>\n",
       "  </thead>\n",
       "  <tbody>\n",
       "    <tr>\n",
       "      <th>0</th>\n",
       "      <td>Margaret</td>\n",
       "      <td>Mcdonald</td>\n",
       "      <td>[skLearn, Java, R, SQL, Spark, C++]</td>\n",
       "      <td>AL</td>\n",
       "      <td>Database</td>\n",
       "      <td>Mid</td>\n",
       "      <td>no</td>\n",
       "    </tr>\n",
       "    <tr>\n",
       "      <th>1</th>\n",
       "      <td>Michael</td>\n",
       "      <td>Carter</td>\n",
       "      <td>[TensorFlow, R, Spark, MongoDB, C++, SQL]</td>\n",
       "      <td>AR</td>\n",
       "      <td>Statistics</td>\n",
       "      <td>Senior</td>\n",
       "      <td>yes</td>\n",
       "    </tr>\n",
       "    <tr>\n",
       "      <th>2</th>\n",
       "      <td>Brenda</td>\n",
       "      <td>Tyler</td>\n",
       "      <td>[Spark]</td>\n",
       "      <td>UT</td>\n",
       "      <td>Database</td>\n",
       "      <td>Mid</td>\n",
       "      <td>no</td>\n",
       "    </tr>\n",
       "    <tr>\n",
       "      <th>3</th>\n",
       "      <td>Joseph</td>\n",
       "      <td>King</td>\n",
       "      <td>[skLearn, SQL, R, Spark, Java, C++, Python, Te...</td>\n",
       "      <td>FL</td>\n",
       "      <td>Machine Learning</td>\n",
       "      <td>Senior</td>\n",
       "      <td>maybe</td>\n",
       "    </tr>\n",
       "    <tr>\n",
       "      <th>4</th>\n",
       "      <td>Laura</td>\n",
       "      <td>Webb</td>\n",
       "      <td>[TensorFlow, C++, SQL, Java, R, MongoDB]</td>\n",
       "      <td>WY</td>\n",
       "      <td>Machine Learning</td>\n",
       "      <td>Junior</td>\n",
       "      <td>maybe</td>\n",
       "    </tr>\n",
       "    <tr>\n",
       "      <th>...</th>\n",
       "      <td>...</td>\n",
       "      <td>...</td>\n",
       "      <td>...</td>\n",
       "      <td>...</td>\n",
       "      <td>...</td>\n",
       "      <td>...</td>\n",
       "      <td>...</td>\n",
       "    </tr>\n",
       "    <tr>\n",
       "      <th>495</th>\n",
       "      <td>Robert</td>\n",
       "      <td>Baker</td>\n",
       "      <td>[skLearn, Spark, C++, Java]</td>\n",
       "      <td>WA</td>\n",
       "      <td>Machine Learning</td>\n",
       "      <td>Mid</td>\n",
       "      <td>yes</td>\n",
       "    </tr>\n",
       "    <tr>\n",
       "      <th>496</th>\n",
       "      <td>Lucas</td>\n",
       "      <td>Brock</td>\n",
       "      <td>[C++]</td>\n",
       "      <td>AR</td>\n",
       "      <td>Machine Learning</td>\n",
       "      <td>Junior</td>\n",
       "      <td>no</td>\n",
       "    </tr>\n",
       "    <tr>\n",
       "      <th>497</th>\n",
       "      <td>Kimberly</td>\n",
       "      <td>Richardson</td>\n",
       "      <td>[Python, Java]</td>\n",
       "      <td>IA</td>\n",
       "      <td>Machine Learning</td>\n",
       "      <td>Junior</td>\n",
       "      <td>maybe</td>\n",
       "    </tr>\n",
       "    <tr>\n",
       "      <th>498</th>\n",
       "      <td>Karla</td>\n",
       "      <td>Salazar</td>\n",
       "      <td>[MongoDB, Python, Java, skLearn]</td>\n",
       "      <td>NE</td>\n",
       "      <td>Data Visualization</td>\n",
       "      <td>Senior</td>\n",
       "      <td>yes</td>\n",
       "    </tr>\n",
       "    <tr>\n",
       "      <th>499</th>\n",
       "      <td>Mrs.</td>\n",
       "      <td>Debra</td>\n",
       "      <td>[skLearn, R, MongoDB, Spark, TensorFlow, Java,...</td>\n",
       "      <td>TX</td>\n",
       "      <td>Statistics</td>\n",
       "      <td>Senior</td>\n",
       "      <td>no</td>\n",
       "    </tr>\n",
       "  </tbody>\n",
       "</table>\n",
       "<p>500 rows × 7 columns</p>\n",
       "</div>"
      ],
      "text/plain": [
       "    first_name   last_name                                             skills  \\\n",
       "0     Margaret    Mcdonald                [skLearn, Java, R, SQL, Spark, C++]   \n",
       "1      Michael      Carter          [TensorFlow, R, Spark, MongoDB, C++, SQL]   \n",
       "2       Brenda       Tyler                                            [Spark]   \n",
       "3       Joseph        King  [skLearn, SQL, R, Spark, Java, C++, Python, Te...   \n",
       "4        Laura        Webb           [TensorFlow, C++, SQL, Java, R, MongoDB]   \n",
       "..         ...         ...                                                ...   \n",
       "495     Robert       Baker                        [skLearn, Spark, C++, Java]   \n",
       "496      Lucas       Brock                                              [C++]   \n",
       "497   Kimberly  Richardson                                     [Python, Java]   \n",
       "498      Karla     Salazar                   [MongoDB, Python, Java, skLearn]   \n",
       "499       Mrs.       Debra  [skLearn, R, MongoDB, Spark, TensorFlow, Java,...   \n",
       "\n",
       "    state           specialty experience relocation  \n",
       "0      AL            Database        Mid         no  \n",
       "1      AR          Statistics     Senior        yes  \n",
       "2      UT            Database        Mid         no  \n",
       "3      FL    Machine Learning     Senior      maybe  \n",
       "4      WY    Machine Learning     Junior      maybe  \n",
       "..    ...                 ...        ...        ...  \n",
       "495    WA    Machine Learning        Mid        yes  \n",
       "496    AR    Machine Learning     Junior         no  \n",
       "497    IA    Machine Learning     Junior      maybe  \n",
       "498    NE  Data Visualization     Senior        yes  \n",
       "499    TX          Statistics     Senior         no  \n",
       "\n",
       "[500 rows x 7 columns]"
      ]
     },
     "execution_count": 8,
     "metadata": {},
     "output_type": "execute_result"
    }
   ],
   "source": [
    "c"
   ]
  },
  {
   "cell_type": "code",
   "execution_count": 9,
   "id": "2a351c98",
   "metadata": {},
   "outputs": [
    {
     "data": {
      "text/plain": [
       "(500, 7)"
      ]
     },
     "execution_count": 9,
     "metadata": {},
     "output_type": "execute_result"
    }
   ],
   "source": [
    "c.shape"
   ]
  },
  {
   "cell_type": "code",
   "execution_count": 9,
   "id": "12bf8214",
   "metadata": {},
   "outputs": [
    {
     "name": "stdout",
     "output_type": "stream",
     "text": [
      "<class 'pandas.core.frame.DataFrame'>\n",
      "RangeIndex: 500 entries, 0 to 499\n",
      "Data columns (total 7 columns):\n",
      " #   Column      Non-Null Count  Dtype \n",
      "---  ------      --------------  ----- \n",
      " 0   first_name  500 non-null    object\n",
      " 1   last_name   500 non-null    object\n",
      " 2   skills      500 non-null    object\n",
      " 3   state       500 non-null    object\n",
      " 4   specialty   500 non-null    object\n",
      " 5   experience  500 non-null    object\n",
      " 6   relocation  500 non-null    object\n",
      "dtypes: object(7)\n",
      "memory usage: 27.5+ KB\n"
     ]
    }
   ],
   "source": [
    "c.info()"
   ]
  },
  {
   "cell_type": "code",
   "execution_count": 17,
   "id": "4ebed384",
   "metadata": {},
   "outputs": [
    {
     "data": {
      "text/html": [
       "<div>\n",
       "<style scoped>\n",
       "    .dataframe tbody tr th:only-of-type {\n",
       "        vertical-align: middle;\n",
       "    }\n",
       "\n",
       "    .dataframe tbody tr th {\n",
       "        vertical-align: top;\n",
       "    }\n",
       "\n",
       "    .dataframe thead th {\n",
       "        text-align: right;\n",
       "    }\n",
       "</style>\n",
       "<table border=\"1\" class=\"dataframe\">\n",
       "  <thead>\n",
       "    <tr style=\"text-align: right;\">\n",
       "      <th></th>\n",
       "      <th>first_name</th>\n",
       "      <th>last_name</th>\n",
       "      <th>skills</th>\n",
       "      <th>state</th>\n",
       "      <th>specialty</th>\n",
       "      <th>experience</th>\n",
       "      <th>relocation</th>\n",
       "    </tr>\n",
       "  </thead>\n",
       "  <tbody>\n",
       "    <tr>\n",
       "      <th>102</th>\n",
       "      <td>Theresa</td>\n",
       "      <td>Martinez</td>\n",
       "      <td>[Python, SQL, MongoDB, C++, TensorFlow, skLearn]</td>\n",
       "      <td>WI</td>\n",
       "      <td>Data Visualization</td>\n",
       "      <td>Senior</td>\n",
       "      <td>yes</td>\n",
       "    </tr>\n",
       "    <tr>\n",
       "      <th>352</th>\n",
       "      <td>Glenn</td>\n",
       "      <td>Stewart</td>\n",
       "      <td>[TensorFlow, Java, Spark, SQL, R, skLearn, Mon...</td>\n",
       "      <td>NC</td>\n",
       "      <td>Data Visualization</td>\n",
       "      <td>Mid</td>\n",
       "      <td>no</td>\n",
       "    </tr>\n",
       "    <tr>\n",
       "      <th>112</th>\n",
       "      <td>Jennifer</td>\n",
       "      <td>Stewart</td>\n",
       "      <td>[Python, Java, skLearn, R, Spark]</td>\n",
       "      <td>CA</td>\n",
       "      <td>Data Visualization</td>\n",
       "      <td>Senior</td>\n",
       "      <td>maybe</td>\n",
       "    </tr>\n",
       "    <tr>\n",
       "      <th>344</th>\n",
       "      <td>Nancy</td>\n",
       "      <td>Morton</td>\n",
       "      <td>[Spark, Python, SQL, Java, skLearn, MongoDB, T...</td>\n",
       "      <td>MS</td>\n",
       "      <td>Data Visualization</td>\n",
       "      <td>Junior</td>\n",
       "      <td>yes</td>\n",
       "    </tr>\n",
       "    <tr>\n",
       "      <th>337</th>\n",
       "      <td>Steven</td>\n",
       "      <td>Allen</td>\n",
       "      <td>[Java, Spark]</td>\n",
       "      <td>NH</td>\n",
       "      <td>Data Visualization</td>\n",
       "      <td>Junior</td>\n",
       "      <td>no</td>\n",
       "    </tr>\n",
       "    <tr>\n",
       "      <th>...</th>\n",
       "      <td>...</td>\n",
       "      <td>...</td>\n",
       "      <td>...</td>\n",
       "      <td>...</td>\n",
       "      <td>...</td>\n",
       "      <td>...</td>\n",
       "      <td>...</td>\n",
       "    </tr>\n",
       "    <tr>\n",
       "      <th>353</th>\n",
       "      <td>Theresa</td>\n",
       "      <td>Brown</td>\n",
       "      <td>[skLearn, C++]</td>\n",
       "      <td>OH</td>\n",
       "      <td>Statistics</td>\n",
       "      <td>Mid</td>\n",
       "      <td>no</td>\n",
       "    </tr>\n",
       "    <tr>\n",
       "      <th>354</th>\n",
       "      <td>Alyssa</td>\n",
       "      <td>Sandoval</td>\n",
       "      <td>[MongoDB, R, skLearn, Python]</td>\n",
       "      <td>OK</td>\n",
       "      <td>Statistics</td>\n",
       "      <td>Junior</td>\n",
       "      <td>no</td>\n",
       "    </tr>\n",
       "    <tr>\n",
       "      <th>110</th>\n",
       "      <td>Sarah</td>\n",
       "      <td>Porter</td>\n",
       "      <td>[MongoDB, Python, skLearn, SQL, Java, TensorFlow]</td>\n",
       "      <td>KY</td>\n",
       "      <td>Statistics</td>\n",
       "      <td>Senior</td>\n",
       "      <td>yes</td>\n",
       "    </tr>\n",
       "    <tr>\n",
       "      <th>109</th>\n",
       "      <td>Jacqueline</td>\n",
       "      <td>Spencer</td>\n",
       "      <td>[Java, Python, skLearn, R, MongoDB, C++, SQL, ...</td>\n",
       "      <td>ME</td>\n",
       "      <td>Statistics</td>\n",
       "      <td>Mid</td>\n",
       "      <td>no</td>\n",
       "    </tr>\n",
       "    <tr>\n",
       "      <th>499</th>\n",
       "      <td>Mrs.</td>\n",
       "      <td>Debra</td>\n",
       "      <td>[skLearn, R, MongoDB, Spark, TensorFlow, Java,...</td>\n",
       "      <td>TX</td>\n",
       "      <td>Statistics</td>\n",
       "      <td>Senior</td>\n",
       "      <td>no</td>\n",
       "    </tr>\n",
       "  </tbody>\n",
       "</table>\n",
       "<p>500 rows × 7 columns</p>\n",
       "</div>"
      ],
      "text/plain": [
       "     first_name last_name                                             skills  \\\n",
       "102     Theresa  Martinez   [Python, SQL, MongoDB, C++, TensorFlow, skLearn]   \n",
       "352       Glenn   Stewart  [TensorFlow, Java, Spark, SQL, R, skLearn, Mon...   \n",
       "112    Jennifer   Stewart                  [Python, Java, skLearn, R, Spark]   \n",
       "344       Nancy    Morton  [Spark, Python, SQL, Java, skLearn, MongoDB, T...   \n",
       "337      Steven     Allen                                      [Java, Spark]   \n",
       "..          ...       ...                                                ...   \n",
       "353     Theresa     Brown                                     [skLearn, C++]   \n",
       "354      Alyssa  Sandoval                      [MongoDB, R, skLearn, Python]   \n",
       "110       Sarah    Porter  [MongoDB, Python, skLearn, SQL, Java, TensorFlow]   \n",
       "109  Jacqueline   Spencer  [Java, Python, skLearn, R, MongoDB, C++, SQL, ...   \n",
       "499        Mrs.     Debra  [skLearn, R, MongoDB, Spark, TensorFlow, Java,...   \n",
       "\n",
       "    state           specialty experience relocation  \n",
       "102    WI  Data Visualization     Senior        yes  \n",
       "352    NC  Data Visualization        Mid         no  \n",
       "112    CA  Data Visualization     Senior      maybe  \n",
       "344    MS  Data Visualization     Junior        yes  \n",
       "337    NH  Data Visualization     Junior         no  \n",
       "..    ...                 ...        ...        ...  \n",
       "353    OH          Statistics        Mid         no  \n",
       "354    OK          Statistics     Junior         no  \n",
       "110    KY          Statistics     Senior        yes  \n",
       "109    ME          Statistics        Mid         no  \n",
       "499    TX          Statistics     Senior         no  \n",
       "\n",
       "[500 rows x 7 columns]"
      ]
     },
     "execution_count": 17,
     "metadata": {},
     "output_type": "execute_result"
    }
   ],
   "source": [
    "c.sort_values(\"specialty\")"
   ]
  },
  {
   "cell_type": "code",
   "execution_count": 30,
   "id": "0928ea27",
   "metadata": {},
   "outputs": [
    {
     "data": {
      "text/plain": [
       "array(['Database', 'Statistics', 'Machine Learning', 'Data Visualization'],\n",
       "      dtype=object)"
      ]
     },
     "execution_count": 30,
     "metadata": {},
     "output_type": "execute_result"
    }
   ],
   "source": [
    "c[\"specialty\"].unique()"
   ]
  },
  {
   "cell_type": "code",
   "execution_count": null,
   "id": "557cf5b6",
   "metadata": {},
   "outputs": [],
   "source": []
  },
  {
   "cell_type": "code",
   "execution_count": 28,
   "id": "49767f0c",
   "metadata": {},
   "outputs": [
    {
     "data": {
      "text/plain": [
       "first_name    116\n",
       "last_name     116\n",
       "skills        116\n",
       "state         116\n",
       "specialty     116\n",
       "experience    116\n",
       "relocation    116\n",
       "dtype: int64"
      ]
     },
     "execution_count": 28,
     "metadata": {},
     "output_type": "execute_result"
    }
   ],
   "source": [
    "# total no of employees have specialization in Data Visualization:\n",
    "\n",
    "c[c[\"specialty\"]==\"Data Visualization\"].count()"
   ]
  },
  {
   "cell_type": "code",
   "execution_count": 29,
   "id": "b85cd797",
   "metadata": {},
   "outputs": [
    {
     "data": {
      "text/plain": [
       "first_name    133\n",
       "last_name     133\n",
       "skills        133\n",
       "state         133\n",
       "specialty     133\n",
       "experience    133\n",
       "relocation    133\n",
       "dtype: int64"
      ]
     },
     "execution_count": 29,
     "metadata": {},
     "output_type": "execute_result"
    }
   ],
   "source": [
    "# total no of employees have specialization in Statistics:\n",
    "\n",
    "c[c[\"specialty\"]==\"Statistics\"].count()"
   ]
  },
  {
   "cell_type": "code",
   "execution_count": 33,
   "id": "964a7bb0",
   "metadata": {},
   "outputs": [
    {
     "data": {
      "text/plain": [
       "first_name    114\n",
       "last_name     114\n",
       "skills        114\n",
       "state         114\n",
       "specialty     114\n",
       "experience    114\n",
       "relocation    114\n",
       "dtype: int64"
      ]
     },
     "execution_count": 33,
     "metadata": {},
     "output_type": "execute_result"
    }
   ],
   "source": [
    "# total no of employees have specialization in Machin Learning:\n",
    "\n",
    "c[c[\"specialty\"]==\"Machine Learning\"].count()"
   ]
  },
  {
   "cell_type": "code",
   "execution_count": 32,
   "id": "38237b92",
   "metadata": {},
   "outputs": [
    {
     "data": {
      "text/plain": [
       "first_name    137\n",
       "last_name     137\n",
       "skills        137\n",
       "state         137\n",
       "specialty     137\n",
       "experience    137\n",
       "relocation    137\n",
       "dtype: int64"
      ]
     },
     "execution_count": 32,
     "metadata": {},
     "output_type": "execute_result"
    }
   ],
   "source": [
    "# total no of employees have specialization in Database:\n",
    "\n",
    "c[c[\"specialty\"]==\"Database\"].count()"
   ]
  },
  {
   "cell_type": "code",
   "execution_count": null,
   "id": "4c169b2c",
   "metadata": {},
   "outputs": [],
   "source": []
  },
  {
   "cell_type": "code",
   "execution_count": 10,
   "id": "d31b1149",
   "metadata": {},
   "outputs": [],
   "source": [
    "headers=list(pd.DataFrame(a[\"features\"][0][\"candidate\"]).columns.values)"
   ]
  },
  {
   "cell_type": "code",
   "execution_count": 11,
   "id": "b626be47",
   "metadata": {},
   "outputs": [
    {
     "data": {
      "text/plain": [
       "['first_name',\n",
       " 'last_name',\n",
       " 'skills',\n",
       " 'state',\n",
       " 'specialty',\n",
       " 'experience',\n",
       " 'relocation']"
      ]
     },
     "execution_count": 11,
     "metadata": {},
     "output_type": "execute_result"
    }
   ],
   "source": [
    "headers"
   ]
  },
  {
   "cell_type": "code",
   "execution_count": 12,
   "id": "47543ede",
   "metadata": {},
   "outputs": [],
   "source": [
    "\n",
    "header1=pd.DataFrame(columns=headers)"
   ]
  },
  {
   "cell_type": "code",
   "execution_count": 13,
   "id": "84a6b908",
   "metadata": {},
   "outputs": [
    {
     "data": {
      "text/html": [
       "<div>\n",
       "<style scoped>\n",
       "    .dataframe tbody tr th:only-of-type {\n",
       "        vertical-align: middle;\n",
       "    }\n",
       "\n",
       "    .dataframe tbody tr th {\n",
       "        vertical-align: top;\n",
       "    }\n",
       "\n",
       "    .dataframe thead th {\n",
       "        text-align: right;\n",
       "    }\n",
       "</style>\n",
       "<table border=\"1\" class=\"dataframe\">\n",
       "  <thead>\n",
       "    <tr style=\"text-align: right;\">\n",
       "      <th></th>\n",
       "      <th>first_name</th>\n",
       "      <th>last_name</th>\n",
       "      <th>skills</th>\n",
       "      <th>state</th>\n",
       "      <th>specialty</th>\n",
       "      <th>experience</th>\n",
       "      <th>relocation</th>\n",
       "    </tr>\n",
       "  </thead>\n",
       "  <tbody>\n",
       "  </tbody>\n",
       "</table>\n",
       "</div>"
      ],
      "text/plain": [
       "Empty DataFrame\n",
       "Columns: [first_name, last_name, skills, state, specialty, experience, relocation]\n",
       "Index: []"
      ]
     },
     "execution_count": 13,
     "metadata": {},
     "output_type": "execute_result"
    }
   ],
   "source": [
    "header1"
   ]
  },
  {
   "cell_type": "code",
   "execution_count": null,
   "id": "3bf8c324",
   "metadata": {},
   "outputs": [],
   "source": []
  },
  {
   "cell_type": "code",
   "execution_count": 14,
   "id": "10b6519c",
   "metadata": {},
   "outputs": [],
   "source": [
    "i=0\n",
    "\n",
    "for i in a[\"features\"]:\n",
    "    b=pd.DataFrame(i[\"candidate\"])\n",
    "    header1= pd.concat([header1,b], ignore_index=True)"
   ]
  },
  {
   "cell_type": "code",
   "execution_count": 15,
   "id": "45ad4442",
   "metadata": {},
   "outputs": [
    {
     "data": {
      "text/html": [
       "<div>\n",
       "<style scoped>\n",
       "    .dataframe tbody tr th:only-of-type {\n",
       "        vertical-align: middle;\n",
       "    }\n",
       "\n",
       "    .dataframe tbody tr th {\n",
       "        vertical-align: top;\n",
       "    }\n",
       "\n",
       "    .dataframe thead th {\n",
       "        text-align: right;\n",
       "    }\n",
       "</style>\n",
       "<table border=\"1\" class=\"dataframe\">\n",
       "  <thead>\n",
       "    <tr style=\"text-align: right;\">\n",
       "      <th></th>\n",
       "      <th>first_name</th>\n",
       "      <th>last_name</th>\n",
       "      <th>skills</th>\n",
       "      <th>state</th>\n",
       "      <th>specialty</th>\n",
       "      <th>experience</th>\n",
       "      <th>relocation</th>\n",
       "    </tr>\n",
       "  </thead>\n",
       "  <tbody>\n",
       "    <tr>\n",
       "      <th>0</th>\n",
       "      <td>Margaret</td>\n",
       "      <td>Mcdonald</td>\n",
       "      <td>skLearn</td>\n",
       "      <td>AL</td>\n",
       "      <td>Database</td>\n",
       "      <td>Mid</td>\n",
       "      <td>no</td>\n",
       "    </tr>\n",
       "    <tr>\n",
       "      <th>1</th>\n",
       "      <td>Margaret</td>\n",
       "      <td>Mcdonald</td>\n",
       "      <td>Java</td>\n",
       "      <td>AL</td>\n",
       "      <td>Database</td>\n",
       "      <td>Mid</td>\n",
       "      <td>no</td>\n",
       "    </tr>\n",
       "    <tr>\n",
       "      <th>2</th>\n",
       "      <td>Margaret</td>\n",
       "      <td>Mcdonald</td>\n",
       "      <td>R</td>\n",
       "      <td>AL</td>\n",
       "      <td>Database</td>\n",
       "      <td>Mid</td>\n",
       "      <td>no</td>\n",
       "    </tr>\n",
       "    <tr>\n",
       "      <th>3</th>\n",
       "      <td>Margaret</td>\n",
       "      <td>Mcdonald</td>\n",
       "      <td>SQL</td>\n",
       "      <td>AL</td>\n",
       "      <td>Database</td>\n",
       "      <td>Mid</td>\n",
       "      <td>no</td>\n",
       "    </tr>\n",
       "    <tr>\n",
       "      <th>4</th>\n",
       "      <td>Margaret</td>\n",
       "      <td>Mcdonald</td>\n",
       "      <td>Spark</td>\n",
       "      <td>AL</td>\n",
       "      <td>Database</td>\n",
       "      <td>Mid</td>\n",
       "      <td>no</td>\n",
       "    </tr>\n",
       "    <tr>\n",
       "      <th>...</th>\n",
       "      <td>...</td>\n",
       "      <td>...</td>\n",
       "      <td>...</td>\n",
       "      <td>...</td>\n",
       "      <td>...</td>\n",
       "      <td>...</td>\n",
       "      <td>...</td>\n",
       "    </tr>\n",
       "    <tr>\n",
       "      <th>2463</th>\n",
       "      <td>Mrs.</td>\n",
       "      <td>Debra</td>\n",
       "      <td>TensorFlow</td>\n",
       "      <td>TX</td>\n",
       "      <td>Statistics</td>\n",
       "      <td>Senior</td>\n",
       "      <td>no</td>\n",
       "    </tr>\n",
       "    <tr>\n",
       "      <th>2464</th>\n",
       "      <td>Mrs.</td>\n",
       "      <td>Debra</td>\n",
       "      <td>Java</td>\n",
       "      <td>TX</td>\n",
       "      <td>Statistics</td>\n",
       "      <td>Senior</td>\n",
       "      <td>no</td>\n",
       "    </tr>\n",
       "    <tr>\n",
       "      <th>2465</th>\n",
       "      <td>Mrs.</td>\n",
       "      <td>Debra</td>\n",
       "      <td>SQL</td>\n",
       "      <td>TX</td>\n",
       "      <td>Statistics</td>\n",
       "      <td>Senior</td>\n",
       "      <td>no</td>\n",
       "    </tr>\n",
       "    <tr>\n",
       "      <th>2466</th>\n",
       "      <td>Mrs.</td>\n",
       "      <td>Debra</td>\n",
       "      <td>Python</td>\n",
       "      <td>TX</td>\n",
       "      <td>Statistics</td>\n",
       "      <td>Senior</td>\n",
       "      <td>no</td>\n",
       "    </tr>\n",
       "    <tr>\n",
       "      <th>2467</th>\n",
       "      <td>Mrs.</td>\n",
       "      <td>Debra</td>\n",
       "      <td>C++</td>\n",
       "      <td>TX</td>\n",
       "      <td>Statistics</td>\n",
       "      <td>Senior</td>\n",
       "      <td>no</td>\n",
       "    </tr>\n",
       "  </tbody>\n",
       "</table>\n",
       "<p>2468 rows × 7 columns</p>\n",
       "</div>"
      ],
      "text/plain": [
       "     first_name last_name      skills state   specialty experience relocation\n",
       "0      Margaret  Mcdonald     skLearn    AL    Database        Mid         no\n",
       "1      Margaret  Mcdonald        Java    AL    Database        Mid         no\n",
       "2      Margaret  Mcdonald           R    AL    Database        Mid         no\n",
       "3      Margaret  Mcdonald         SQL    AL    Database        Mid         no\n",
       "4      Margaret  Mcdonald       Spark    AL    Database        Mid         no\n",
       "...         ...       ...         ...   ...         ...        ...        ...\n",
       "2463       Mrs.     Debra  TensorFlow    TX  Statistics     Senior         no\n",
       "2464       Mrs.     Debra        Java    TX  Statistics     Senior         no\n",
       "2465       Mrs.     Debra         SQL    TX  Statistics     Senior         no\n",
       "2466       Mrs.     Debra      Python    TX  Statistics     Senior         no\n",
       "2467       Mrs.     Debra         C++    TX  Statistics     Senior         no\n",
       "\n",
       "[2468 rows x 7 columns]"
      ]
     },
     "execution_count": 15,
     "metadata": {},
     "output_type": "execute_result"
    }
   ],
   "source": [
    "\n",
    "header1"
   ]
  },
  {
   "cell_type": "code",
   "execution_count": 23,
   "id": "82afa1f3",
   "metadata": {},
   "outputs": [
    {
     "name": "stdout",
     "output_type": "stream",
     "text": [
      "<class 'pandas.core.frame.DataFrame'>\n",
      "RangeIndex: 2468 entries, 0 to 2467\n",
      "Data columns (total 7 columns):\n",
      " #   Column      Non-Null Count  Dtype \n",
      "---  ------      --------------  ----- \n",
      " 0   first_name  2468 non-null   object\n",
      " 1   last_name   2468 non-null   object\n",
      " 2   skills      2468 non-null   object\n",
      " 3   state       2468 non-null   object\n",
      " 4   specialty   2468 non-null   object\n",
      " 5   experience  2468 non-null   object\n",
      " 6   relocation  2468 non-null   object\n",
      "dtypes: object(7)\n",
      "memory usage: 135.1+ KB\n"
     ]
    }
   ],
   "source": [
    "header1.info()"
   ]
  },
  {
   "cell_type": "code",
   "execution_count": 35,
   "id": "ef728d93",
   "metadata": {},
   "outputs": [
    {
     "data": {
      "text/plain": [
       "array(['skLearn', 'Java', 'R', 'SQL', 'Spark', 'C++', 'TensorFlow',\n",
       "       'MongoDB', 'Python'], dtype=object)"
      ]
     },
     "execution_count": 35,
     "metadata": {},
     "output_type": "execute_result"
    }
   ],
   "source": [
    "header1[\"skills\"].unique()"
   ]
  },
  {
   "cell_type": "code",
   "execution_count": 47,
   "id": "5fef20d1",
   "metadata": {},
   "outputs": [
    {
     "data": {
      "text/plain": [
       "first_name    267\n",
       "last_name     267\n",
       "skills        267\n",
       "state         267\n",
       "specialty     267\n",
       "experience    267\n",
       "relocation    267\n",
       "dtype: int64"
      ]
     },
     "execution_count": 47,
     "metadata": {},
     "output_type": "execute_result"
    }
   ],
   "source": [
    "# Total employees who know Sklearn\n",
    "\n",
    "header1[header1[\"skills\"]==\"skLearn\"].count()"
   ]
  },
  {
   "cell_type": "code",
   "execution_count": 38,
   "id": "bf55fb6f",
   "metadata": {},
   "outputs": [
    {
     "data": {
      "text/plain": [
       "first_name    267\n",
       "last_name     267\n",
       "skills        267\n",
       "state         267\n",
       "specialty     267\n",
       "experience    267\n",
       "relocation    267\n",
       "dtype: int64"
      ]
     },
     "execution_count": 38,
     "metadata": {},
     "output_type": "execute_result"
    }
   ],
   "source": [
    "# Total employees who know Java\n",
    "\n",
    "header1[header1[\"skills\"]==\"Java\"].count()"
   ]
  },
  {
   "cell_type": "code",
   "execution_count": 39,
   "id": "c7b4ea8c",
   "metadata": {},
   "outputs": [
    {
     "data": {
      "text/plain": [
       "first_name    272\n",
       "last_name     272\n",
       "skills        272\n",
       "state         272\n",
       "specialty     272\n",
       "experience    272\n",
       "relocation    272\n",
       "dtype: int64"
      ]
     },
     "execution_count": 39,
     "metadata": {},
     "output_type": "execute_result"
    }
   ],
   "source": [
    "# Total employees who know R\n",
    "\n",
    "header1[header1[\"skills\"]==\"R\"].count()"
   ]
  },
  {
   "cell_type": "code",
   "execution_count": 40,
   "id": "915817b9",
   "metadata": {},
   "outputs": [
    {
     "data": {
      "text/plain": [
       "first_name    277\n",
       "last_name     277\n",
       "skills        277\n",
       "state         277\n",
       "specialty     277\n",
       "experience    277\n",
       "relocation    277\n",
       "dtype: int64"
      ]
     },
     "execution_count": 40,
     "metadata": {},
     "output_type": "execute_result"
    }
   ],
   "source": [
    "# Total employees who know SQL\n",
    "\n",
    "header1[header1[\"skills\"]==\"SQL\"].count()"
   ]
  },
  {
   "cell_type": "code",
   "execution_count": 41,
   "id": "ec7c2d9f",
   "metadata": {},
   "outputs": [
    {
     "data": {
      "text/plain": [
       "first_name    285\n",
       "last_name     285\n",
       "skills        285\n",
       "state         285\n",
       "specialty     285\n",
       "experience    285\n",
       "relocation    285\n",
       "dtype: int64"
      ]
     },
     "execution_count": 41,
     "metadata": {},
     "output_type": "execute_result"
    }
   ],
   "source": [
    "# Total employees who know Spark\n",
    "\n",
    "header1[header1[\"skills\"]==\"Spark\"].count()"
   ]
  },
  {
   "cell_type": "code",
   "execution_count": 42,
   "id": "bf622596",
   "metadata": {},
   "outputs": [
    {
     "data": {
      "text/plain": [
       "first_name    274\n",
       "last_name     274\n",
       "skills        274\n",
       "state         274\n",
       "specialty     274\n",
       "experience    274\n",
       "relocation    274\n",
       "dtype: int64"
      ]
     },
     "execution_count": 42,
     "metadata": {},
     "output_type": "execute_result"
    }
   ],
   "source": [
    "# Total employees who know C++\n",
    "\n",
    "header1[header1[\"skills\"]==\"C++\"].count()"
   ]
  },
  {
   "cell_type": "code",
   "execution_count": 43,
   "id": "96cf14ec",
   "metadata": {},
   "outputs": [
    {
     "data": {
      "text/plain": [
       "first_name    280\n",
       "last_name     280\n",
       "skills        280\n",
       "state         280\n",
       "specialty     280\n",
       "experience    280\n",
       "relocation    280\n",
       "dtype: int64"
      ]
     },
     "execution_count": 43,
     "metadata": {},
     "output_type": "execute_result"
    }
   ],
   "source": [
    "# Total employees who know TensorFlow\n",
    "\n",
    "header1[header1[\"skills\"]==\"TensorFlow\"].count()"
   ]
  },
  {
   "cell_type": "code",
   "execution_count": 44,
   "id": "fb9b438f",
   "metadata": {},
   "outputs": [
    {
     "data": {
      "text/plain": [
       "first_name    274\n",
       "last_name     274\n",
       "skills        274\n",
       "state         274\n",
       "specialty     274\n",
       "experience    274\n",
       "relocation    274\n",
       "dtype: int64"
      ]
     },
     "execution_count": 44,
     "metadata": {},
     "output_type": "execute_result"
    }
   ],
   "source": [
    "# Total employees who know MongoDB\n",
    "\n",
    "header1[header1[\"skills\"]==\"MongoDB\"].count()"
   ]
  },
  {
   "cell_type": "code",
   "execution_count": 45,
   "id": "4b91f2ee",
   "metadata": {},
   "outputs": [
    {
     "data": {
      "text/plain": [
       "first_name    272\n",
       "last_name     272\n",
       "skills        272\n",
       "state         272\n",
       "specialty     272\n",
       "experience    272\n",
       "relocation    272\n",
       "dtype: int64"
      ]
     },
     "execution_count": 45,
     "metadata": {},
     "output_type": "execute_result"
    }
   ],
   "source": [
    "# Total employees who know Python\n",
    "\n",
    "header1[header1[\"skills\"]==\"Python\"].count()"
   ]
  },
  {
   "cell_type": "code",
   "execution_count": 57,
   "id": "a2ba90b7",
   "metadata": {},
   "outputs": [
    {
     "data": {
      "text/plain": [
       "272"
      ]
     },
     "execution_count": 57,
     "metadata": {},
     "output_type": "execute_result"
    }
   ],
   "source": [
    "header1[header1[\"skills\"]==\"Python\"].shape[0]"
   ]
  },
  {
   "cell_type": "code",
   "execution_count": null,
   "id": "a22db012",
   "metadata": {},
   "outputs": [],
   "source": []
  },
  {
   "cell_type": "code",
   "execution_count": 16,
   "id": "a0505bf7",
   "metadata": {},
   "outputs": [
    {
     "data": {
      "text/html": [
       "<div>\n",
       "<style scoped>\n",
       "    .dataframe tbody tr th:only-of-type {\n",
       "        vertical-align: middle;\n",
       "    }\n",
       "\n",
       "    .dataframe tbody tr th {\n",
       "        vertical-align: top;\n",
       "    }\n",
       "\n",
       "    .dataframe thead th {\n",
       "        text-align: right;\n",
       "    }\n",
       "</style>\n",
       "<table border=\"1\" class=\"dataframe\">\n",
       "  <thead>\n",
       "    <tr style=\"text-align: right;\">\n",
       "      <th></th>\n",
       "      <th>first_name</th>\n",
       "      <th>last_name</th>\n",
       "      <th>skills</th>\n",
       "      <th>state</th>\n",
       "      <th>specialty</th>\n",
       "      <th>experience</th>\n",
       "      <th>relocation</th>\n",
       "    </tr>\n",
       "  </thead>\n",
       "  <tbody>\n",
       "    <tr>\n",
       "      <th>2</th>\n",
       "      <td>Margaret</td>\n",
       "      <td>Mcdonald</td>\n",
       "      <td>R</td>\n",
       "      <td>AL</td>\n",
       "      <td>Database</td>\n",
       "      <td>Mid</td>\n",
       "      <td>no</td>\n",
       "    </tr>\n",
       "    <tr>\n",
       "      <th>142</th>\n",
       "      <td>Norma</td>\n",
       "      <td>Norris</td>\n",
       "      <td>R</td>\n",
       "      <td>HI</td>\n",
       "      <td>Database</td>\n",
       "      <td>Junior</td>\n",
       "      <td>yes</td>\n",
       "    </tr>\n",
       "    <tr>\n",
       "      <th>158</th>\n",
       "      <td>Donna</td>\n",
       "      <td>Cole</td>\n",
       "      <td>R</td>\n",
       "      <td>CO</td>\n",
       "      <td>Database</td>\n",
       "      <td>Junior</td>\n",
       "      <td>maybe</td>\n",
       "    </tr>\n",
       "    <tr>\n",
       "      <th>260</th>\n",
       "      <td>Tiffany</td>\n",
       "      <td>Ramsey</td>\n",
       "      <td>R</td>\n",
       "      <td>SC</td>\n",
       "      <td>Database</td>\n",
       "      <td>Senior</td>\n",
       "      <td>maybe</td>\n",
       "    </tr>\n",
       "    <tr>\n",
       "      <th>294</th>\n",
       "      <td>Paul</td>\n",
       "      <td>Miller</td>\n",
       "      <td>R</td>\n",
       "      <td>LA</td>\n",
       "      <td>Database</td>\n",
       "      <td>Mid</td>\n",
       "      <td>no</td>\n",
       "    </tr>\n",
       "    <tr>\n",
       "      <th>...</th>\n",
       "      <td>...</td>\n",
       "      <td>...</td>\n",
       "      <td>...</td>\n",
       "      <td>...</td>\n",
       "      <td>...</td>\n",
       "      <td>...</td>\n",
       "      <td>...</td>\n",
       "    </tr>\n",
       "    <tr>\n",
       "      <th>2310</th>\n",
       "      <td>Steven</td>\n",
       "      <td>Nichols</td>\n",
       "      <td>R</td>\n",
       "      <td>WV</td>\n",
       "      <td>Database</td>\n",
       "      <td>Mid</td>\n",
       "      <td>maybe</td>\n",
       "    </tr>\n",
       "    <tr>\n",
       "      <th>2313</th>\n",
       "      <td>John</td>\n",
       "      <td>Walker</td>\n",
       "      <td>R</td>\n",
       "      <td>MN</td>\n",
       "      <td>Database</td>\n",
       "      <td>Senior</td>\n",
       "      <td>yes</td>\n",
       "    </tr>\n",
       "    <tr>\n",
       "      <th>2319</th>\n",
       "      <td>James</td>\n",
       "      <td>Steele</td>\n",
       "      <td>R</td>\n",
       "      <td>MN</td>\n",
       "      <td>Database</td>\n",
       "      <td>Junior</td>\n",
       "      <td>yes</td>\n",
       "    </tr>\n",
       "    <tr>\n",
       "      <th>2418</th>\n",
       "      <td>Jill</td>\n",
       "      <td>Harmon</td>\n",
       "      <td>R</td>\n",
       "      <td>NH</td>\n",
       "      <td>Database</td>\n",
       "      <td>Mid</td>\n",
       "      <td>no</td>\n",
       "    </tr>\n",
       "    <tr>\n",
       "      <th>2437</th>\n",
       "      <td>Jennifer</td>\n",
       "      <td>Harris</td>\n",
       "      <td>R</td>\n",
       "      <td>AL</td>\n",
       "      <td>Database</td>\n",
       "      <td>Senior</td>\n",
       "      <td>yes</td>\n",
       "    </tr>\n",
       "  </tbody>\n",
       "</table>\n",
       "<p>63 rows × 7 columns</p>\n",
       "</div>"
      ],
      "text/plain": [
       "     first_name last_name skills state specialty experience relocation\n",
       "2      Margaret  Mcdonald      R    AL  Database        Mid         no\n",
       "142       Norma    Norris      R    HI  Database     Junior        yes\n",
       "158       Donna      Cole      R    CO  Database     Junior      maybe\n",
       "260     Tiffany    Ramsey      R    SC  Database     Senior      maybe\n",
       "294        Paul    Miller      R    LA  Database        Mid         no\n",
       "...         ...       ...    ...   ...       ...        ...        ...\n",
       "2310     Steven   Nichols      R    WV  Database        Mid      maybe\n",
       "2313       John    Walker      R    MN  Database     Senior        yes\n",
       "2319      James    Steele      R    MN  Database     Junior        yes\n",
       "2418       Jill    Harmon      R    NH  Database        Mid         no\n",
       "2437   Jennifer    Harris      R    AL  Database     Senior        yes\n",
       "\n",
       "[63 rows x 7 columns]"
      ]
     },
     "execution_count": 16,
     "metadata": {},
     "output_type": "execute_result"
    }
   ],
   "source": [
    "# List of Employees having knowledge of \"R\" and  specialization in \"Database\"\n",
    "\n",
    "header1[(header1.skills==\"R\") & (header1.specialty==\"Database\")]"
   ]
  },
  {
   "cell_type": "code",
   "execution_count": 50,
   "id": "17c5a422",
   "metadata": {},
   "outputs": [
    {
     "data": {
      "text/plain": [
       "63"
      ]
     },
     "execution_count": 50,
     "metadata": {},
     "output_type": "execute_result"
    }
   ],
   "source": [
    "# Total employees having knowledge of \"R\" and \"Database\"\n",
    "\n",
    "header1[(header1.skills==\"R\") & (header1.specialty==\"Database\")].shape[0]"
   ]
  },
  {
   "cell_type": "code",
   "execution_count": 51,
   "id": "04748905",
   "metadata": {},
   "outputs": [
    {
     "data": {
      "text/plain": [
       "first_name    63\n",
       "last_name     63\n",
       "skills        63\n",
       "state         63\n",
       "specialty     63\n",
       "experience    63\n",
       "relocation    63\n",
       "dtype: int64"
      ]
     },
     "execution_count": 51,
     "metadata": {},
     "output_type": "execute_result"
    }
   ],
   "source": [
    "header1[(header1.skills==\"R\") & (header1.specialty==\"Database\")].count()"
   ]
  },
  {
   "cell_type": "code",
   "execution_count": 22,
   "id": "e6cc47f0",
   "metadata": {},
   "outputs": [
    {
     "data": {
      "text/html": [
       "<div>\n",
       "<style scoped>\n",
       "    .dataframe tbody tr th:only-of-type {\n",
       "        vertical-align: middle;\n",
       "    }\n",
       "\n",
       "    .dataframe tbody tr th {\n",
       "        vertical-align: top;\n",
       "    }\n",
       "\n",
       "    .dataframe thead th {\n",
       "        text-align: right;\n",
       "    }\n",
       "</style>\n",
       "<table border=\"1\" class=\"dataframe\">\n",
       "  <thead>\n",
       "    <tr style=\"text-align: right;\">\n",
       "      <th></th>\n",
       "      <th>first_name</th>\n",
       "      <th>last_name</th>\n",
       "      <th>skills</th>\n",
       "      <th>state</th>\n",
       "      <th>specialty</th>\n",
       "      <th>experience</th>\n",
       "      <th>relocation</th>\n",
       "    </tr>\n",
       "  </thead>\n",
       "  <tbody>\n",
       "    <tr>\n",
       "      <th>7</th>\n",
       "      <td>Michael</td>\n",
       "      <td>Carter</td>\n",
       "      <td>R</td>\n",
       "      <td>AR</td>\n",
       "      <td>Statistics</td>\n",
       "      <td>Senior</td>\n",
       "      <td>yes</td>\n",
       "    </tr>\n",
       "    <tr>\n",
       "      <th>11</th>\n",
       "      <td>Michael</td>\n",
       "      <td>Carter</td>\n",
       "      <td>SQL</td>\n",
       "      <td>AR</td>\n",
       "      <td>Statistics</td>\n",
       "      <td>Senior</td>\n",
       "      <td>yes</td>\n",
       "    </tr>\n",
       "    <tr>\n",
       "      <th>103</th>\n",
       "      <td>James</td>\n",
       "      <td>Mosley</td>\n",
       "      <td>R</td>\n",
       "      <td>AR</td>\n",
       "      <td>Statistics</td>\n",
       "      <td>Junior</td>\n",
       "      <td>yes</td>\n",
       "    </tr>\n",
       "    <tr>\n",
       "      <th>104</th>\n",
       "      <td>James</td>\n",
       "      <td>Mosley</td>\n",
       "      <td>Java</td>\n",
       "      <td>AR</td>\n",
       "      <td>Statistics</td>\n",
       "      <td>Junior</td>\n",
       "      <td>yes</td>\n",
       "    </tr>\n",
       "    <tr>\n",
       "      <th>1957</th>\n",
       "      <td>Sandra</td>\n",
       "      <td>Blevins</td>\n",
       "      <td>R</td>\n",
       "      <td>AR</td>\n",
       "      <td>Statistics</td>\n",
       "      <td>Mid</td>\n",
       "      <td>maybe</td>\n",
       "    </tr>\n",
       "  </tbody>\n",
       "</table>\n",
       "</div>"
      ],
      "text/plain": [
       "     first_name last_name skills state   specialty experience relocation\n",
       "7       Michael    Carter      R    AR  Statistics     Senior        yes\n",
       "11      Michael    Carter    SQL    AR  Statistics     Senior        yes\n",
       "103       James    Mosley      R    AR  Statistics     Junior        yes\n",
       "104       James    Mosley   Java    AR  Statistics     Junior        yes\n",
       "1957     Sandra   Blevins      R    AR  Statistics        Mid      maybe"
      ]
     },
     "execution_count": 22,
     "metadata": {},
     "output_type": "execute_result"
    }
   ],
   "source": [
    "# List of employess having knowledge of R/SQL/Jave and specialzed in Staticstics and are in state AR\n",
    "\n",
    "\n",
    "header1[(header1.skills.isin(['R','SQL','Java'])) & (header1.specialty == 'Statistics') & (header1.state == 'AR')]"
   ]
  },
  {
   "cell_type": "code",
   "execution_count": 52,
   "id": "9128a9fc",
   "metadata": {},
   "outputs": [
    {
     "data": {
      "text/plain": [
       "5"
      ]
     },
     "execution_count": 52,
     "metadata": {},
     "output_type": "execute_result"
    }
   ],
   "source": [
    "# Total no of emplyees who have knowledge of R/SQL/Java and specialized in Statistics and staying in state \"AR\"\n",
    "\n",
    "header1[(header1.skills.isin(['R','SQL','Java'])) & (header1.specialty == 'Statistics') & (header1.state == 'AR')].shape[0]"
   ]
  },
  {
   "cell_type": "code",
   "execution_count": null,
   "id": "48014b10",
   "metadata": {},
   "outputs": [],
   "source": []
  },
  {
   "cell_type": "code",
   "execution_count": 23,
   "id": "7cb338f3",
   "metadata": {},
   "outputs": [
    {
     "data": {
      "text/html": [
       "<div>\n",
       "<style scoped>\n",
       "    .dataframe tbody tr th:only-of-type {\n",
       "        vertical-align: middle;\n",
       "    }\n",
       "\n",
       "    .dataframe tbody tr th {\n",
       "        vertical-align: top;\n",
       "    }\n",
       "\n",
       "    .dataframe thead th {\n",
       "        text-align: right;\n",
       "    }\n",
       "</style>\n",
       "<table border=\"1\" class=\"dataframe\">\n",
       "  <thead>\n",
       "    <tr style=\"text-align: right;\">\n",
       "      <th></th>\n",
       "      <th>first_name</th>\n",
       "      <th>last_name</th>\n",
       "      <th>skills</th>\n",
       "      <th>state</th>\n",
       "      <th>specialty</th>\n",
       "      <th>experience</th>\n",
       "      <th>relocation</th>\n",
       "    </tr>\n",
       "  </thead>\n",
       "  <tbody>\n",
       "    <tr>\n",
       "      <th>10</th>\n",
       "      <td>Michael</td>\n",
       "      <td>Carter</td>\n",
       "      <td>C++</td>\n",
       "      <td>AR</td>\n",
       "      <td>Statistics</td>\n",
       "      <td>Senior</td>\n",
       "      <td>yes</td>\n",
       "    </tr>\n",
       "    <tr>\n",
       "      <th>11</th>\n",
       "      <td>Michael</td>\n",
       "      <td>Carter</td>\n",
       "      <td>SQL</td>\n",
       "      <td>AR</td>\n",
       "      <td>Statistics</td>\n",
       "      <td>Senior</td>\n",
       "      <td>yes</td>\n",
       "    </tr>\n",
       "    <tr>\n",
       "      <th>27</th>\n",
       "      <td>Cheryl</td>\n",
       "      <td>Ramirez</td>\n",
       "      <td>C++</td>\n",
       "      <td>OK</td>\n",
       "      <td>Data Visualization</td>\n",
       "      <td>Mid</td>\n",
       "      <td>no</td>\n",
       "    </tr>\n",
       "    <tr>\n",
       "      <th>28</th>\n",
       "      <td>Cheryl</td>\n",
       "      <td>Ramirez</td>\n",
       "      <td>Python</td>\n",
       "      <td>OK</td>\n",
       "      <td>Data Visualization</td>\n",
       "      <td>Mid</td>\n",
       "      <td>no</td>\n",
       "    </tr>\n",
       "    <tr>\n",
       "      <th>32</th>\n",
       "      <td>Cheryl</td>\n",
       "      <td>Ramirez</td>\n",
       "      <td>SQL</td>\n",
       "      <td>OK</td>\n",
       "      <td>Data Visualization</td>\n",
       "      <td>Mid</td>\n",
       "      <td>no</td>\n",
       "    </tr>\n",
       "    <tr>\n",
       "      <th>...</th>\n",
       "      <td>...</td>\n",
       "      <td>...</td>\n",
       "      <td>...</td>\n",
       "      <td>...</td>\n",
       "      <td>...</td>\n",
       "      <td>...</td>\n",
       "      <td>...</td>\n",
       "    </tr>\n",
       "    <tr>\n",
       "      <th>2442</th>\n",
       "      <td>Ms.</td>\n",
       "      <td>Tracy</td>\n",
       "      <td>Python</td>\n",
       "      <td>NM</td>\n",
       "      <td>Data Visualization</td>\n",
       "      <td>Mid</td>\n",
       "      <td>maybe</td>\n",
       "    </tr>\n",
       "    <tr>\n",
       "      <th>2456</th>\n",
       "      <td>Karla</td>\n",
       "      <td>Salazar</td>\n",
       "      <td>Python</td>\n",
       "      <td>NE</td>\n",
       "      <td>Data Visualization</td>\n",
       "      <td>Senior</td>\n",
       "      <td>yes</td>\n",
       "    </tr>\n",
       "    <tr>\n",
       "      <th>2465</th>\n",
       "      <td>Mrs.</td>\n",
       "      <td>Debra</td>\n",
       "      <td>SQL</td>\n",
       "      <td>TX</td>\n",
       "      <td>Statistics</td>\n",
       "      <td>Senior</td>\n",
       "      <td>no</td>\n",
       "    </tr>\n",
       "    <tr>\n",
       "      <th>2466</th>\n",
       "      <td>Mrs.</td>\n",
       "      <td>Debra</td>\n",
       "      <td>Python</td>\n",
       "      <td>TX</td>\n",
       "      <td>Statistics</td>\n",
       "      <td>Senior</td>\n",
       "      <td>no</td>\n",
       "    </tr>\n",
       "    <tr>\n",
       "      <th>2467</th>\n",
       "      <td>Mrs.</td>\n",
       "      <td>Debra</td>\n",
       "      <td>C++</td>\n",
       "      <td>TX</td>\n",
       "      <td>Statistics</td>\n",
       "      <td>Senior</td>\n",
       "      <td>no</td>\n",
       "    </tr>\n",
       "  </tbody>\n",
       "</table>\n",
       "<p>413 rows × 7 columns</p>\n",
       "</div>"
      ],
      "text/plain": [
       "     first_name last_name  skills state           specialty experience  \\\n",
       "10      Michael    Carter     C++    AR          Statistics     Senior   \n",
       "11      Michael    Carter     SQL    AR          Statistics     Senior   \n",
       "27       Cheryl   Ramirez     C++    OK  Data Visualization        Mid   \n",
       "28       Cheryl   Ramirez  Python    OK  Data Visualization        Mid   \n",
       "32       Cheryl   Ramirez     SQL    OK  Data Visualization        Mid   \n",
       "...         ...       ...     ...   ...                 ...        ...   \n",
       "2442        Ms.     Tracy  Python    NM  Data Visualization        Mid   \n",
       "2456      Karla   Salazar  Python    NE  Data Visualization     Senior   \n",
       "2465       Mrs.     Debra     SQL    TX          Statistics     Senior   \n",
       "2466       Mrs.     Debra  Python    TX          Statistics     Senior   \n",
       "2467       Mrs.     Debra     C++    TX          Statistics     Senior   \n",
       "\n",
       "     relocation  \n",
       "10          yes  \n",
       "11          yes  \n",
       "27           no  \n",
       "28           no  \n",
       "32           no  \n",
       "...         ...  \n",
       "2442      maybe  \n",
       "2456        yes  \n",
       "2465         no  \n",
       "2466         no  \n",
       "2467         no  \n",
       "\n",
       "[413 rows x 7 columns]"
      ]
     },
     "execution_count": 23,
     "metadata": {},
     "output_type": "execute_result"
    }
   ],
   "source": [
    "# List of employees who are having skills SQL/C++/Python and specialsed either in Data Visualization ot Statistics:\n",
    "\n",
    "header1[(header1.skills.isin([\"SQL\",\"C++\",\"Python\"])) & (header1.specialty.isin([\"Data Visualization\", \"Statistics\"]))]"
   ]
  },
  {
   "cell_type": "code",
   "execution_count": 55,
   "id": "4bc7596a",
   "metadata": {},
   "outputs": [
    {
     "data": {
      "text/plain": [
       "413"
      ]
     },
     "execution_count": 55,
     "metadata": {},
     "output_type": "execute_result"
    }
   ],
   "source": [
    "#Total employees who are having skills SQL/C++/Python and specialsed either in Data Visualization ot Statistics:\n",
    "\n",
    "header1[(header1.skills.isin([\"SQL\",\"C++\",\"Python\"])) & (header1.specialty.isin([\"Data Visualization\", \"Statistics\"]))].shape[0]"
   ]
  },
  {
   "cell_type": "code",
   "execution_count": 25,
   "id": "cc0da8a3",
   "metadata": {},
   "outputs": [
    {
     "data": {
      "text/html": [
       "<div>\n",
       "<style scoped>\n",
       "    .dataframe tbody tr th:only-of-type {\n",
       "        vertical-align: middle;\n",
       "    }\n",
       "\n",
       "    .dataframe tbody tr th {\n",
       "        vertical-align: top;\n",
       "    }\n",
       "\n",
       "    .dataframe thead th {\n",
       "        text-align: right;\n",
       "    }\n",
       "</style>\n",
       "<table border=\"1\" class=\"dataframe\">\n",
       "  <thead>\n",
       "    <tr style=\"text-align: right;\">\n",
       "      <th></th>\n",
       "      <th>first_name</th>\n",
       "      <th>last_name</th>\n",
       "      <th>skills</th>\n",
       "      <th>state</th>\n",
       "      <th>specialty</th>\n",
       "      <th>experience</th>\n",
       "      <th>relocation</th>\n",
       "    </tr>\n",
       "  </thead>\n",
       "  <tbody>\n",
       "    <tr>\n",
       "      <th>18</th>\n",
       "      <td>Joseph</td>\n",
       "      <td>King</td>\n",
       "      <td>C++</td>\n",
       "      <td>FL</td>\n",
       "      <td>Machine Learning</td>\n",
       "      <td>Senior</td>\n",
       "      <td>maybe</td>\n",
       "    </tr>\n",
       "    <tr>\n",
       "      <th>19</th>\n",
       "      <td>Joseph</td>\n",
       "      <td>King</td>\n",
       "      <td>Python</td>\n",
       "      <td>FL</td>\n",
       "      <td>Machine Learning</td>\n",
       "      <td>Senior</td>\n",
       "      <td>maybe</td>\n",
       "    </tr>\n",
       "    <tr>\n",
       "      <th>22</th>\n",
       "      <td>Laura</td>\n",
       "      <td>Webb</td>\n",
       "      <td>C++</td>\n",
       "      <td>WY</td>\n",
       "      <td>Machine Learning</td>\n",
       "      <td>Junior</td>\n",
       "      <td>maybe</td>\n",
       "    </tr>\n",
       "    <tr>\n",
       "      <th>37</th>\n",
       "      <td>Charles</td>\n",
       "      <td>Stewart</td>\n",
       "      <td>C++</td>\n",
       "      <td>NM</td>\n",
       "      <td>Machine Learning</td>\n",
       "      <td>Mid</td>\n",
       "      <td>maybe</td>\n",
       "    </tr>\n",
       "    <tr>\n",
       "      <th>41</th>\n",
       "      <td>Charles</td>\n",
       "      <td>Stewart</td>\n",
       "      <td>Python</td>\n",
       "      <td>NM</td>\n",
       "      <td>Machine Learning</td>\n",
       "      <td>Mid</td>\n",
       "      <td>maybe</td>\n",
       "    </tr>\n",
       "    <tr>\n",
       "      <th>...</th>\n",
       "      <td>...</td>\n",
       "      <td>...</td>\n",
       "      <td>...</td>\n",
       "      <td>...</td>\n",
       "      <td>...</td>\n",
       "      <td>...</td>\n",
       "      <td>...</td>\n",
       "    </tr>\n",
       "    <tr>\n",
       "      <th>2429</th>\n",
       "      <td>Mark</td>\n",
       "      <td>Mcknight</td>\n",
       "      <td>C++</td>\n",
       "      <td>AK</td>\n",
       "      <td>Machine Learning</td>\n",
       "      <td>Senior</td>\n",
       "      <td>yes</td>\n",
       "    </tr>\n",
       "    <tr>\n",
       "      <th>2446</th>\n",
       "      <td>Brandon</td>\n",
       "      <td>Moore</td>\n",
       "      <td>C++</td>\n",
       "      <td>MO</td>\n",
       "      <td>Machine Learning</td>\n",
       "      <td>Mid</td>\n",
       "      <td>no</td>\n",
       "    </tr>\n",
       "    <tr>\n",
       "      <th>2450</th>\n",
       "      <td>Robert</td>\n",
       "      <td>Baker</td>\n",
       "      <td>C++</td>\n",
       "      <td>WA</td>\n",
       "      <td>Machine Learning</td>\n",
       "      <td>Mid</td>\n",
       "      <td>yes</td>\n",
       "    </tr>\n",
       "    <tr>\n",
       "      <th>2452</th>\n",
       "      <td>Lucas</td>\n",
       "      <td>Brock</td>\n",
       "      <td>C++</td>\n",
       "      <td>AR</td>\n",
       "      <td>Machine Learning</td>\n",
       "      <td>Junior</td>\n",
       "      <td>no</td>\n",
       "    </tr>\n",
       "    <tr>\n",
       "      <th>2453</th>\n",
       "      <td>Kimberly</td>\n",
       "      <td>Richardson</td>\n",
       "      <td>Python</td>\n",
       "      <td>IA</td>\n",
       "      <td>Machine Learning</td>\n",
       "      <td>Junior</td>\n",
       "      <td>maybe</td>\n",
       "    </tr>\n",
       "  </tbody>\n",
       "</table>\n",
       "<p>136 rows × 7 columns</p>\n",
       "</div>"
      ],
      "text/plain": [
       "     first_name   last_name  skills state         specialty experience  \\\n",
       "18       Joseph        King     C++    FL  Machine Learning     Senior   \n",
       "19       Joseph        King  Python    FL  Machine Learning     Senior   \n",
       "22        Laura        Webb     C++    WY  Machine Learning     Junior   \n",
       "37      Charles     Stewart     C++    NM  Machine Learning        Mid   \n",
       "41      Charles     Stewart  Python    NM  Machine Learning        Mid   \n",
       "...         ...         ...     ...   ...               ...        ...   \n",
       "2429       Mark    Mcknight     C++    AK  Machine Learning     Senior   \n",
       "2446    Brandon       Moore     C++    MO  Machine Learning        Mid   \n",
       "2450     Robert       Baker     C++    WA  Machine Learning        Mid   \n",
       "2452      Lucas       Brock     C++    AR  Machine Learning     Junior   \n",
       "2453   Kimberly  Richardson  Python    IA  Machine Learning     Junior   \n",
       "\n",
       "     relocation  \n",
       "18        maybe  \n",
       "19        maybe  \n",
       "22        maybe  \n",
       "37        maybe  \n",
       "41        maybe  \n",
       "...         ...  \n",
       "2429        yes  \n",
       "2446         no  \n",
       "2450        yes  \n",
       "2452         no  \n",
       "2453      maybe  \n",
       "\n",
       "[136 rows x 7 columns]"
      ]
     },
     "execution_count": 25,
     "metadata": {},
     "output_type": "execute_result"
    }
   ],
   "source": [
    "#List of employees who are having skills C++ Or Python and specialsed in Machine Learning:\n",
    "\n",
    "header1[(header1.skills.isin([\"C++\", \"Python\"]))&(header1.specialty==\"Machine Learning\")] "
   ]
  },
  {
   "cell_type": "code",
   "execution_count": 56,
   "id": "5dfb29b4",
   "metadata": {},
   "outputs": [
    {
     "data": {
      "text/plain": [
       "136"
      ]
     },
     "execution_count": 56,
     "metadata": {},
     "output_type": "execute_result"
    }
   ],
   "source": [
    "#Total employees who are having skills C++ OR Python and specialsed Machine Learning:\n",
    "\n",
    "header1[(header1.skills.isin([\"C++\", \"Python\"]))&(header1.specialty==\"Machine Learning\")] .shape[0]"
   ]
  },
  {
   "cell_type": "code",
   "execution_count": null,
   "id": "59c0180f",
   "metadata": {},
   "outputs": [],
   "source": [
    "# List of emplyees who are having knwledge of both \"R and SQL\":"
   ]
  },
  {
   "cell_type": "code",
   "execution_count": 58,
   "id": "1f381600",
   "metadata": {},
   "outputs": [
    {
     "name": "stdout",
     "output_type": "stream",
     "text": [
      "Shortlisted candidates are as follow:\n",
      "\n"
     ]
    },
    {
     "data": {
      "text/html": [
       "<div>\n",
       "<style scoped>\n",
       "    .dataframe tbody tr th:only-of-type {\n",
       "        vertical-align: middle;\n",
       "    }\n",
       "\n",
       "    .dataframe tbody tr th {\n",
       "        vertical-align: top;\n",
       "    }\n",
       "\n",
       "    .dataframe thead th {\n",
       "        text-align: right;\n",
       "    }\n",
       "</style>\n",
       "<table border=\"1\" class=\"dataframe\">\n",
       "  <thead>\n",
       "    <tr style=\"text-align: right;\">\n",
       "      <th></th>\n",
       "      <th>first_name</th>\n",
       "      <th>last_name</th>\n",
       "      <th>skills</th>\n",
       "      <th>state</th>\n",
       "      <th>specialty</th>\n",
       "      <th>experience</th>\n",
       "      <th>relocation</th>\n",
       "    </tr>\n",
       "  </thead>\n",
       "  <tbody>\n",
       "    <tr>\n",
       "      <th>0</th>\n",
       "      <td>Margaret</td>\n",
       "      <td>Mcdonald</td>\n",
       "      <td>[skLearn, Java, R, SQL, Spark, C++]</td>\n",
       "      <td>AL</td>\n",
       "      <td>Database</td>\n",
       "      <td>Mid</td>\n",
       "      <td>no</td>\n",
       "    </tr>\n",
       "    <tr>\n",
       "      <th>1</th>\n",
       "      <td>Michael</td>\n",
       "      <td>Carter</td>\n",
       "      <td>[TensorFlow, R, Spark, MongoDB, C++, SQL]</td>\n",
       "      <td>AR</td>\n",
       "      <td>Statistics</td>\n",
       "      <td>Senior</td>\n",
       "      <td>yes</td>\n",
       "    </tr>\n",
       "    <tr>\n",
       "      <th>2</th>\n",
       "      <td>Joseph</td>\n",
       "      <td>King</td>\n",
       "      <td>[skLearn, SQL, R, Spark, Java, C++, Python, Te...</td>\n",
       "      <td>FL</td>\n",
       "      <td>Machine Learning</td>\n",
       "      <td>Senior</td>\n",
       "      <td>maybe</td>\n",
       "    </tr>\n",
       "    <tr>\n",
       "      <th>3</th>\n",
       "      <td>Laura</td>\n",
       "      <td>Webb</td>\n",
       "      <td>[TensorFlow, C++, SQL, Java, R, MongoDB]</td>\n",
       "      <td>WY</td>\n",
       "      <td>Machine Learning</td>\n",
       "      <td>Junior</td>\n",
       "      <td>maybe</td>\n",
       "    </tr>\n",
       "    <tr>\n",
       "      <th>4</th>\n",
       "      <td>Cheryl</td>\n",
       "      <td>Ramirez</td>\n",
       "      <td>[C++, Python, R, Java, skLearn, SQL, MongoDB, ...</td>\n",
       "      <td>OK</td>\n",
       "      <td>Data Visualization</td>\n",
       "      <td>Mid</td>\n",
       "      <td>no</td>\n",
       "    </tr>\n",
       "    <tr>\n",
       "      <th>...</th>\n",
       "      <td>...</td>\n",
       "      <td>...</td>\n",
       "      <td>...</td>\n",
       "      <td>...</td>\n",
       "      <td>...</td>\n",
       "      <td>...</td>\n",
       "      <td>...</td>\n",
       "    </tr>\n",
       "    <tr>\n",
       "      <th>177</th>\n",
       "      <td>Philip</td>\n",
       "      <td>Walters</td>\n",
       "      <td>[SQL, C++, Spark, Python, R, MongoDB, Java, Te...</td>\n",
       "      <td>NE</td>\n",
       "      <td>Machine Learning</td>\n",
       "      <td>Junior</td>\n",
       "      <td>maybe</td>\n",
       "    </tr>\n",
       "    <tr>\n",
       "      <th>178</th>\n",
       "      <td>Jill</td>\n",
       "      <td>Harmon</td>\n",
       "      <td>[skLearn, Java, R, Python, SQL, Spark, C++]</td>\n",
       "      <td>NH</td>\n",
       "      <td>Database</td>\n",
       "      <td>Mid</td>\n",
       "      <td>no</td>\n",
       "    </tr>\n",
       "    <tr>\n",
       "      <th>179</th>\n",
       "      <td>Mark</td>\n",
       "      <td>Mcknight</td>\n",
       "      <td>[R, Spark, SQL, TensorFlow, Python, MongoDB, C...</td>\n",
       "      <td>AK</td>\n",
       "      <td>Machine Learning</td>\n",
       "      <td>Senior</td>\n",
       "      <td>yes</td>\n",
       "    </tr>\n",
       "    <tr>\n",
       "      <th>180</th>\n",
       "      <td>Jennifer</td>\n",
       "      <td>Harris</td>\n",
       "      <td>[SQL, C++, Java, Spark, Python, R, TensorFlow,...</td>\n",
       "      <td>AL</td>\n",
       "      <td>Database</td>\n",
       "      <td>Senior</td>\n",
       "      <td>yes</td>\n",
       "    </tr>\n",
       "    <tr>\n",
       "      <th>181</th>\n",
       "      <td>Mrs.</td>\n",
       "      <td>Debra</td>\n",
       "      <td>[skLearn, R, MongoDB, Spark, TensorFlow, Java,...</td>\n",
       "      <td>TX</td>\n",
       "      <td>Statistics</td>\n",
       "      <td>Senior</td>\n",
       "      <td>no</td>\n",
       "    </tr>\n",
       "  </tbody>\n",
       "</table>\n",
       "<p>182 rows × 7 columns</p>\n",
       "</div>"
      ],
      "text/plain": [
       "    first_name last_name                                             skills  \\\n",
       "0     Margaret  Mcdonald                [skLearn, Java, R, SQL, Spark, C++]   \n",
       "1      Michael    Carter          [TensorFlow, R, Spark, MongoDB, C++, SQL]   \n",
       "2       Joseph      King  [skLearn, SQL, R, Spark, Java, C++, Python, Te...   \n",
       "3        Laura      Webb           [TensorFlow, C++, SQL, Java, R, MongoDB]   \n",
       "4       Cheryl   Ramirez  [C++, Python, R, Java, skLearn, SQL, MongoDB, ...   \n",
       "..         ...       ...                                                ...   \n",
       "177     Philip   Walters  [SQL, C++, Spark, Python, R, MongoDB, Java, Te...   \n",
       "178       Jill    Harmon        [skLearn, Java, R, Python, SQL, Spark, C++]   \n",
       "179       Mark  Mcknight  [R, Spark, SQL, TensorFlow, Python, MongoDB, C...   \n",
       "180   Jennifer    Harris  [SQL, C++, Java, Spark, Python, R, TensorFlow,...   \n",
       "181       Mrs.     Debra  [skLearn, R, MongoDB, Spark, TensorFlow, Java,...   \n",
       "\n",
       "    state           specialty experience relocation  \n",
       "0      AL            Database        Mid         no  \n",
       "1      AR          Statistics     Senior        yes  \n",
       "2      FL    Machine Learning     Senior      maybe  \n",
       "3      WY    Machine Learning     Junior      maybe  \n",
       "4      OK  Data Visualization        Mid         no  \n",
       "..    ...                 ...        ...        ...  \n",
       "177    NE    Machine Learning     Junior      maybe  \n",
       "178    NH            Database        Mid         no  \n",
       "179    AK    Machine Learning     Senior        yes  \n",
       "180    AL            Database     Senior        yes  \n",
       "181    TX          Statistics     Senior         no  \n",
       "\n",
       "[182 rows x 7 columns]"
      ]
     },
     "execution_count": 58,
     "metadata": {},
     "output_type": "execute_result"
    }
   ],
   "source": [
    "candidatelist=pd.DataFrame(columns=headers)\n",
    "lst=[]\n",
    "\n",
    "for i in range(len(c[\"skills\"])):\n",
    "    if \"R\" in c[\"skills\"][i] and \"SQL\" in c[\"skills\"][i]:\n",
    "        lst.append(a[\"features\"][i][\"candidate\"])\n",
    "\n",
    "candidatelist=pd.DataFrame(lst)\n",
    "            \n",
    "print(\"Shortlisted candidates are as follow:\\n\")\n",
    "\n",
    "candidatelist"
   ]
  },
  {
   "cell_type": "code",
   "execution_count": 62,
   "id": "ccf65078",
   "metadata": {},
   "outputs": [
    {
     "data": {
      "text/plain": [
       "182"
      ]
     },
     "execution_count": 62,
     "metadata": {},
     "output_type": "execute_result"
    }
   ],
   "source": [
    "# Total no of emplyees who are having knwledge of both \"R and SQL\":\n",
    "\n",
    "candidatelist.shape[0]"
   ]
  },
  {
   "cell_type": "code",
   "execution_count": null,
   "id": "7e163186",
   "metadata": {},
   "outputs": [],
   "source": [
    "# list of candidates who have the knowledge of \"Spark, Java and TensorFlow\" and specialization in \"Statistics\"\n",
    " and having \"Mid\" experience"
   ]
  },
  {
   "cell_type": "code",
   "execution_count": 64,
   "id": "e24210d7",
   "metadata": {},
   "outputs": [
    {
     "name": "stdout",
     "output_type": "stream",
     "text": [
      "Shortlisted candidates are as follow:\n",
      "\n"
     ]
    },
    {
     "data": {
      "text/html": [
       "<div>\n",
       "<style scoped>\n",
       "    .dataframe tbody tr th:only-of-type {\n",
       "        vertical-align: middle;\n",
       "    }\n",
       "\n",
       "    .dataframe tbody tr th {\n",
       "        vertical-align: top;\n",
       "    }\n",
       "\n",
       "    .dataframe thead th {\n",
       "        text-align: right;\n",
       "    }\n",
       "</style>\n",
       "<table border=\"1\" class=\"dataframe\">\n",
       "  <thead>\n",
       "    <tr style=\"text-align: right;\">\n",
       "      <th></th>\n",
       "      <th>first_name</th>\n",
       "      <th>last_name</th>\n",
       "      <th>skills</th>\n",
       "      <th>state</th>\n",
       "      <th>specialty</th>\n",
       "      <th>experience</th>\n",
       "      <th>relocation</th>\n",
       "    </tr>\n",
       "  </thead>\n",
       "  <tbody>\n",
       "    <tr>\n",
       "      <th>0</th>\n",
       "      <td>Amber</td>\n",
       "      <td>Gibbs</td>\n",
       "      <td>[MongoDB, Java, TensorFlow, Spark]</td>\n",
       "      <td>NM</td>\n",
       "      <td>Statistics</td>\n",
       "      <td>Mid</td>\n",
       "      <td>no</td>\n",
       "    </tr>\n",
       "    <tr>\n",
       "      <th>1</th>\n",
       "      <td>Richard</td>\n",
       "      <td>Estrada</td>\n",
       "      <td>[Java, TensorFlow, skLearn, R, C++, Python, Sp...</td>\n",
       "      <td>TX</td>\n",
       "      <td>Statistics</td>\n",
       "      <td>Mid</td>\n",
       "      <td>maybe</td>\n",
       "    </tr>\n",
       "    <tr>\n",
       "      <th>2</th>\n",
       "      <td>Neil</td>\n",
       "      <td>Maxwell</td>\n",
       "      <td>[Python, Spark, R, TensorFlow, SQL, Java, C++]</td>\n",
       "      <td>DE</td>\n",
       "      <td>Statistics</td>\n",
       "      <td>Mid</td>\n",
       "      <td>yes</td>\n",
       "    </tr>\n",
       "    <tr>\n",
       "      <th>3</th>\n",
       "      <td>Norma</td>\n",
       "      <td>Foley</td>\n",
       "      <td>[MongoDB, SQL, Spark, R, skLearn, Python, Java...</td>\n",
       "      <td>MN</td>\n",
       "      <td>Statistics</td>\n",
       "      <td>Mid</td>\n",
       "      <td>maybe</td>\n",
       "    </tr>\n",
       "    <tr>\n",
       "      <th>4</th>\n",
       "      <td>Deborah</td>\n",
       "      <td>Moss</td>\n",
       "      <td>[Java, SQL, R, C++, skLearn, MongoDB, Python, ...</td>\n",
       "      <td>UT</td>\n",
       "      <td>Statistics</td>\n",
       "      <td>Mid</td>\n",
       "      <td>yes</td>\n",
       "    </tr>\n",
       "    <tr>\n",
       "      <th>5</th>\n",
       "      <td>Vicki</td>\n",
       "      <td>Ellison</td>\n",
       "      <td>[R, Spark, TensorFlow, Java, skLearn]</td>\n",
       "      <td>MI</td>\n",
       "      <td>Statistics</td>\n",
       "      <td>Mid</td>\n",
       "      <td>no</td>\n",
       "    </tr>\n",
       "    <tr>\n",
       "      <th>6</th>\n",
       "      <td>Paula</td>\n",
       "      <td>Curtis</td>\n",
       "      <td>[SQL, Python, TensorFlow, Spark, skLearn, C++,...</td>\n",
       "      <td>ND</td>\n",
       "      <td>Statistics</td>\n",
       "      <td>Mid</td>\n",
       "      <td>no</td>\n",
       "    </tr>\n",
       "    <tr>\n",
       "      <th>7</th>\n",
       "      <td>Timothy</td>\n",
       "      <td>Perez</td>\n",
       "      <td>[skLearn, Python, TensorFlow, R, Spark, MongoD...</td>\n",
       "      <td>IL</td>\n",
       "      <td>Statistics</td>\n",
       "      <td>Mid</td>\n",
       "      <td>maybe</td>\n",
       "    </tr>\n",
       "    <tr>\n",
       "      <th>8</th>\n",
       "      <td>Jared</td>\n",
       "      <td>Griffith</td>\n",
       "      <td>[skLearn, MongoDB, C++, SQL, Java, TensorFlow,...</td>\n",
       "      <td>IN</td>\n",
       "      <td>Statistics</td>\n",
       "      <td>Mid</td>\n",
       "      <td>maybe</td>\n",
       "    </tr>\n",
       "    <tr>\n",
       "      <th>9</th>\n",
       "      <td>Miranda</td>\n",
       "      <td>Mitchell</td>\n",
       "      <td>[C++, R, Java, Python, SQL, Spark, MongoDB, sk...</td>\n",
       "      <td>WY</td>\n",
       "      <td>Statistics</td>\n",
       "      <td>Mid</td>\n",
       "      <td>maybe</td>\n",
       "    </tr>\n",
       "    <tr>\n",
       "      <th>10</th>\n",
       "      <td>Joann</td>\n",
       "      <td>Jones</td>\n",
       "      <td>[Spark, C++, SQL, TensorFlow, MongoDB, Java, s...</td>\n",
       "      <td>FL</td>\n",
       "      <td>Statistics</td>\n",
       "      <td>Mid</td>\n",
       "      <td>yes</td>\n",
       "    </tr>\n",
       "    <tr>\n",
       "      <th>11</th>\n",
       "      <td>Ashley</td>\n",
       "      <td>Chung</td>\n",
       "      <td>[SQL, Spark, Java, C++, TensorFlow, Python, R,...</td>\n",
       "      <td>NJ</td>\n",
       "      <td>Statistics</td>\n",
       "      <td>Mid</td>\n",
       "      <td>no</td>\n",
       "    </tr>\n",
       "    <tr>\n",
       "      <th>12</th>\n",
       "      <td>Janet</td>\n",
       "      <td>Cunningham</td>\n",
       "      <td>[Java, skLearn, TensorFlow, Python, Spark, Mon...</td>\n",
       "      <td>DE</td>\n",
       "      <td>Statistics</td>\n",
       "      <td>Mid</td>\n",
       "      <td>yes</td>\n",
       "    </tr>\n",
       "    <tr>\n",
       "      <th>13</th>\n",
       "      <td>Lisa</td>\n",
       "      <td>Conley</td>\n",
       "      <td>[R, Python, skLearn, SQL, MongoDB, Spark, Tens...</td>\n",
       "      <td>DE</td>\n",
       "      <td>Statistics</td>\n",
       "      <td>Mid</td>\n",
       "      <td>maybe</td>\n",
       "    </tr>\n",
       "  </tbody>\n",
       "</table>\n",
       "</div>"
      ],
      "text/plain": [
       "   first_name   last_name                                             skills  \\\n",
       "0       Amber       Gibbs                 [MongoDB, Java, TensorFlow, Spark]   \n",
       "1     Richard     Estrada  [Java, TensorFlow, skLearn, R, C++, Python, Sp...   \n",
       "2        Neil     Maxwell     [Python, Spark, R, TensorFlow, SQL, Java, C++]   \n",
       "3       Norma       Foley  [MongoDB, SQL, Spark, R, skLearn, Python, Java...   \n",
       "4     Deborah        Moss  [Java, SQL, R, C++, skLearn, MongoDB, Python, ...   \n",
       "5       Vicki     Ellison              [R, Spark, TensorFlow, Java, skLearn]   \n",
       "6       Paula      Curtis  [SQL, Python, TensorFlow, Spark, skLearn, C++,...   \n",
       "7     Timothy       Perez  [skLearn, Python, TensorFlow, R, Spark, MongoD...   \n",
       "8       Jared    Griffith  [skLearn, MongoDB, C++, SQL, Java, TensorFlow,...   \n",
       "9     Miranda    Mitchell  [C++, R, Java, Python, SQL, Spark, MongoDB, sk...   \n",
       "10      Joann       Jones  [Spark, C++, SQL, TensorFlow, MongoDB, Java, s...   \n",
       "11     Ashley       Chung  [SQL, Spark, Java, C++, TensorFlow, Python, R,...   \n",
       "12      Janet  Cunningham  [Java, skLearn, TensorFlow, Python, Spark, Mon...   \n",
       "13       Lisa      Conley  [R, Python, skLearn, SQL, MongoDB, Spark, Tens...   \n",
       "\n",
       "   state   specialty experience relocation  \n",
       "0     NM  Statistics        Mid         no  \n",
       "1     TX  Statistics        Mid      maybe  \n",
       "2     DE  Statistics        Mid        yes  \n",
       "3     MN  Statistics        Mid      maybe  \n",
       "4     UT  Statistics        Mid        yes  \n",
       "5     MI  Statistics        Mid         no  \n",
       "6     ND  Statistics        Mid         no  \n",
       "7     IL  Statistics        Mid      maybe  \n",
       "8     IN  Statistics        Mid      maybe  \n",
       "9     WY  Statistics        Mid      maybe  \n",
       "10    FL  Statistics        Mid        yes  \n",
       "11    NJ  Statistics        Mid         no  \n",
       "12    DE  Statistics        Mid        yes  \n",
       "13    DE  Statistics        Mid      maybe  "
      ]
     },
     "execution_count": 64,
     "metadata": {},
     "output_type": "execute_result"
    }
   ],
   "source": [
    "candidatelist1=pd.DataFrame(columns=headers)\n",
    "lst=[]\n",
    "\n",
    "for i in range(len(c[\"skills\"])):\n",
    "    if \"Spark\" in c[\"skills\"][i] and \"Java\" in c[\"skills\"][i] and \"TensorFlow\" in c[\"skills\"][i] and \"Statistics\" in c[\"specialty\"][i] and \"Mid\" in c[\"experience\"][i]:\n",
    "        lst.append(a[\"features\"][i][\"candidate\"])\n",
    "\n",
    "candidatelist1=pd.DataFrame(lst)\n",
    "            \n",
    "print(\"Shortlisted candidates are as follow:\\n\")\n",
    "\n",
    "candidatelist1"
   ]
  },
  {
   "cell_type": "code",
   "execution_count": 65,
   "id": "102bd83b",
   "metadata": {},
   "outputs": [
    {
     "data": {
      "text/plain": [
       "14"
      ]
     },
     "execution_count": 65,
     "metadata": {},
     "output_type": "execute_result"
    }
   ],
   "source": [
    "#Total no. of candidates who have the knowledge of \"Spark, Java and TensorFlow\" and having specialization in \"Statistics\" and \n",
    "# having \"Mid\" experience\n",
    "\n",
    "candidatelist1.shape[0]"
   ]
  },
  {
   "cell_type": "code",
   "execution_count": 68,
   "id": "aaed1bed",
   "metadata": {},
   "outputs": [
    {
     "data": {
      "text/html": [
       "<div>\n",
       "<style scoped>\n",
       "    .dataframe tbody tr th:only-of-type {\n",
       "        vertical-align: middle;\n",
       "    }\n",
       "\n",
       "    .dataframe tbody tr th {\n",
       "        vertical-align: top;\n",
       "    }\n",
       "\n",
       "    .dataframe thead th {\n",
       "        text-align: right;\n",
       "    }\n",
       "</style>\n",
       "<table border=\"1\" class=\"dataframe\">\n",
       "  <thead>\n",
       "    <tr style=\"text-align: right;\">\n",
       "      <th></th>\n",
       "      <th>first_name</th>\n",
       "      <th>last_name</th>\n",
       "      <th>skills</th>\n",
       "      <th>state</th>\n",
       "      <th>specialty</th>\n",
       "      <th>experience</th>\n",
       "      <th>relocation</th>\n",
       "    </tr>\n",
       "  </thead>\n",
       "  <tbody>\n",
       "    <tr>\n",
       "      <th>0</th>\n",
       "      <td>Margaret</td>\n",
       "      <td>Mcdonald</td>\n",
       "      <td>[skLearn, Java, R, SQL, Spark, C++]</td>\n",
       "      <td>AL</td>\n",
       "      <td>Database</td>\n",
       "      <td>Mid</td>\n",
       "      <td>no</td>\n",
       "    </tr>\n",
       "    <tr>\n",
       "      <th>1</th>\n",
       "      <td>Michael</td>\n",
       "      <td>Carter</td>\n",
       "      <td>[TensorFlow, R, Spark, MongoDB, C++, SQL]</td>\n",
       "      <td>AR</td>\n",
       "      <td>Statistics</td>\n",
       "      <td>Senior</td>\n",
       "      <td>yes</td>\n",
       "    </tr>\n",
       "    <tr>\n",
       "      <th>2</th>\n",
       "      <td>Brenda</td>\n",
       "      <td>Tyler</td>\n",
       "      <td>[Spark]</td>\n",
       "      <td>UT</td>\n",
       "      <td>Database</td>\n",
       "      <td>Mid</td>\n",
       "      <td>no</td>\n",
       "    </tr>\n",
       "    <tr>\n",
       "      <th>3</th>\n",
       "      <td>Joseph</td>\n",
       "      <td>King</td>\n",
       "      <td>[skLearn, SQL, R, Spark, Java, C++, Python, Te...</td>\n",
       "      <td>FL</td>\n",
       "      <td>Machine Learning</td>\n",
       "      <td>Senior</td>\n",
       "      <td>maybe</td>\n",
       "    </tr>\n",
       "    <tr>\n",
       "      <th>4</th>\n",
       "      <td>Laura</td>\n",
       "      <td>Webb</td>\n",
       "      <td>[TensorFlow, C++, SQL, Java, R, MongoDB]</td>\n",
       "      <td>WY</td>\n",
       "      <td>Machine Learning</td>\n",
       "      <td>Junior</td>\n",
       "      <td>maybe</td>\n",
       "    </tr>\n",
       "    <tr>\n",
       "      <th>...</th>\n",
       "      <td>...</td>\n",
       "      <td>...</td>\n",
       "      <td>...</td>\n",
       "      <td>...</td>\n",
       "      <td>...</td>\n",
       "      <td>...</td>\n",
       "      <td>...</td>\n",
       "    </tr>\n",
       "    <tr>\n",
       "      <th>495</th>\n",
       "      <td>Robert</td>\n",
       "      <td>Baker</td>\n",
       "      <td>[skLearn, Spark, C++, Java]</td>\n",
       "      <td>WA</td>\n",
       "      <td>Machine Learning</td>\n",
       "      <td>Mid</td>\n",
       "      <td>yes</td>\n",
       "    </tr>\n",
       "    <tr>\n",
       "      <th>496</th>\n",
       "      <td>Lucas</td>\n",
       "      <td>Brock</td>\n",
       "      <td>[C++]</td>\n",
       "      <td>AR</td>\n",
       "      <td>Machine Learning</td>\n",
       "      <td>Junior</td>\n",
       "      <td>no</td>\n",
       "    </tr>\n",
       "    <tr>\n",
       "      <th>497</th>\n",
       "      <td>Kimberly</td>\n",
       "      <td>Richardson</td>\n",
       "      <td>[Python, Java]</td>\n",
       "      <td>IA</td>\n",
       "      <td>Machine Learning</td>\n",
       "      <td>Junior</td>\n",
       "      <td>maybe</td>\n",
       "    </tr>\n",
       "    <tr>\n",
       "      <th>498</th>\n",
       "      <td>Karla</td>\n",
       "      <td>Salazar</td>\n",
       "      <td>[MongoDB, Python, Java, skLearn]</td>\n",
       "      <td>NE</td>\n",
       "      <td>Data Visualization</td>\n",
       "      <td>Senior</td>\n",
       "      <td>yes</td>\n",
       "    </tr>\n",
       "    <tr>\n",
       "      <th>499</th>\n",
       "      <td>Mrs.</td>\n",
       "      <td>Debra</td>\n",
       "      <td>[skLearn, R, MongoDB, Spark, TensorFlow, Java,...</td>\n",
       "      <td>TX</td>\n",
       "      <td>Statistics</td>\n",
       "      <td>Senior</td>\n",
       "      <td>no</td>\n",
       "    </tr>\n",
       "  </tbody>\n",
       "</table>\n",
       "<p>500 rows × 7 columns</p>\n",
       "</div>"
      ],
      "text/plain": [
       "    first_name   last_name                                             skills  \\\n",
       "0     Margaret    Mcdonald                [skLearn, Java, R, SQL, Spark, C++]   \n",
       "1      Michael      Carter          [TensorFlow, R, Spark, MongoDB, C++, SQL]   \n",
       "2       Brenda       Tyler                                            [Spark]   \n",
       "3       Joseph        King  [skLearn, SQL, R, Spark, Java, C++, Python, Te...   \n",
       "4        Laura        Webb           [TensorFlow, C++, SQL, Java, R, MongoDB]   \n",
       "..         ...         ...                                                ...   \n",
       "495     Robert       Baker                        [skLearn, Spark, C++, Java]   \n",
       "496      Lucas       Brock                                              [C++]   \n",
       "497   Kimberly  Richardson                                     [Python, Java]   \n",
       "498      Karla     Salazar                   [MongoDB, Python, Java, skLearn]   \n",
       "499       Mrs.       Debra  [skLearn, R, MongoDB, Spark, TensorFlow, Java,...   \n",
       "\n",
       "    state           specialty experience relocation  \n",
       "0      AL            Database        Mid         no  \n",
       "1      AR          Statistics     Senior        yes  \n",
       "2      UT            Database        Mid         no  \n",
       "3      FL    Machine Learning     Senior      maybe  \n",
       "4      WY    Machine Learning     Junior      maybe  \n",
       "..    ...                 ...        ...        ...  \n",
       "495    WA    Machine Learning        Mid        yes  \n",
       "496    AR    Machine Learning     Junior         no  \n",
       "497    IA    Machine Learning     Junior      maybe  \n",
       "498    NE  Data Visualization     Senior        yes  \n",
       "499    TX          Statistics     Senior         no  \n",
       "\n",
       "[500 rows x 7 columns]"
      ]
     },
     "execution_count": 68,
     "metadata": {},
     "output_type": "execute_result"
    }
   ],
   "source": [
    "c"
   ]
  },
  {
   "cell_type": "code",
   "execution_count": 69,
   "id": "55aa30d8",
   "metadata": {},
   "outputs": [
    {
     "data": {
      "text/html": [
       "<div>\n",
       "<style scoped>\n",
       "    .dataframe tbody tr th:only-of-type {\n",
       "        vertical-align: middle;\n",
       "    }\n",
       "\n",
       "    .dataframe tbody tr th {\n",
       "        vertical-align: top;\n",
       "    }\n",
       "\n",
       "    .dataframe thead th {\n",
       "        text-align: right;\n",
       "    }\n",
       "</style>\n",
       "<table border=\"1\" class=\"dataframe\">\n",
       "  <thead>\n",
       "    <tr style=\"text-align: right;\">\n",
       "      <th></th>\n",
       "      <th>first_name</th>\n",
       "      <th>last_name</th>\n",
       "      <th>skills</th>\n",
       "      <th>state</th>\n",
       "      <th>specialty</th>\n",
       "      <th>experience</th>\n",
       "      <th>relocation</th>\n",
       "    </tr>\n",
       "  </thead>\n",
       "  <tbody>\n",
       "    <tr>\n",
       "      <th>37</th>\n",
       "      <td>Christine</td>\n",
       "      <td>Walker</td>\n",
       "      <td>[Python, C++, TensorFlow, Java, Spark, skLearn...</td>\n",
       "      <td>AK</td>\n",
       "      <td>Machine Learning</td>\n",
       "      <td>Mid</td>\n",
       "      <td>maybe</td>\n",
       "    </tr>\n",
       "    <tr>\n",
       "      <th>406</th>\n",
       "      <td>Brittany</td>\n",
       "      <td>Nelson</td>\n",
       "      <td>[Java, TensorFlow, skLearn, MongoDB, Spark, SQ...</td>\n",
       "      <td>AK</td>\n",
       "      <td>Statistics</td>\n",
       "      <td>Senior</td>\n",
       "      <td>yes</td>\n",
       "    </tr>\n",
       "    <tr>\n",
       "      <th>302</th>\n",
       "      <td>Katherine</td>\n",
       "      <td>Bradshaw</td>\n",
       "      <td>[Java, R, skLearn, C++, MongoDB, Python]</td>\n",
       "      <td>AK</td>\n",
       "      <td>Statistics</td>\n",
       "      <td>Mid</td>\n",
       "      <td>maybe</td>\n",
       "    </tr>\n",
       "    <tr>\n",
       "      <th>186</th>\n",
       "      <td>Deanna</td>\n",
       "      <td>Diaz</td>\n",
       "      <td>[TensorFlow, skLearn, R, C++, SQL, Spark, Python]</td>\n",
       "      <td>AK</td>\n",
       "      <td>Machine Learning</td>\n",
       "      <td>Mid</td>\n",
       "      <td>no</td>\n",
       "    </tr>\n",
       "    <tr>\n",
       "      <th>329</th>\n",
       "      <td>Katherine</td>\n",
       "      <td>Christian</td>\n",
       "      <td>[Spark, C++]</td>\n",
       "      <td>AK</td>\n",
       "      <td>Statistics</td>\n",
       "      <td>Senior</td>\n",
       "      <td>no</td>\n",
       "    </tr>\n",
       "    <tr>\n",
       "      <th>...</th>\n",
       "      <td>...</td>\n",
       "      <td>...</td>\n",
       "      <td>...</td>\n",
       "      <td>...</td>\n",
       "      <td>...</td>\n",
       "      <td>...</td>\n",
       "      <td>...</td>\n",
       "    </tr>\n",
       "    <tr>\n",
       "      <th>473</th>\n",
       "      <td>Haley</td>\n",
       "      <td>Reed</td>\n",
       "      <td>[R, SQL, Java, skLearn, Python]</td>\n",
       "      <td>WY</td>\n",
       "      <td>Statistics</td>\n",
       "      <td>Junior</td>\n",
       "      <td>no</td>\n",
       "    </tr>\n",
       "    <tr>\n",
       "      <th>305</th>\n",
       "      <td>Travis</td>\n",
       "      <td>Willis</td>\n",
       "      <td>[SQL, MongoDB, Java, Python, skLearn]</td>\n",
       "      <td>WY</td>\n",
       "      <td>Database</td>\n",
       "      <td>Mid</td>\n",
       "      <td>no</td>\n",
       "    </tr>\n",
       "    <tr>\n",
       "      <th>301</th>\n",
       "      <td>Miranda</td>\n",
       "      <td>Mitchell</td>\n",
       "      <td>[C++, R, Java, Python, SQL, Spark, MongoDB, sk...</td>\n",
       "      <td>WY</td>\n",
       "      <td>Statistics</td>\n",
       "      <td>Mid</td>\n",
       "      <td>maybe</td>\n",
       "    </tr>\n",
       "    <tr>\n",
       "      <th>232</th>\n",
       "      <td>Peter</td>\n",
       "      <td>Torres</td>\n",
       "      <td>[R, MongoDB, SQL, TensorFlow, Java, Spark, skL...</td>\n",
       "      <td>WY</td>\n",
       "      <td>Machine Learning</td>\n",
       "      <td>Mid</td>\n",
       "      <td>yes</td>\n",
       "    </tr>\n",
       "    <tr>\n",
       "      <th>336</th>\n",
       "      <td>Dominic</td>\n",
       "      <td>Rivera</td>\n",
       "      <td>[Python, skLearn, MongoDB, C++, SQL, TensorFlo...</td>\n",
       "      <td>WY</td>\n",
       "      <td>Machine Learning</td>\n",
       "      <td>Junior</td>\n",
       "      <td>no</td>\n",
       "    </tr>\n",
       "  </tbody>\n",
       "</table>\n",
       "<p>500 rows × 7 columns</p>\n",
       "</div>"
      ],
      "text/plain": [
       "    first_name  last_name                                             skills  \\\n",
       "37   Christine     Walker  [Python, C++, TensorFlow, Java, Spark, skLearn...   \n",
       "406   Brittany     Nelson  [Java, TensorFlow, skLearn, MongoDB, Spark, SQ...   \n",
       "302  Katherine   Bradshaw           [Java, R, skLearn, C++, MongoDB, Python]   \n",
       "186     Deanna       Diaz  [TensorFlow, skLearn, R, C++, SQL, Spark, Python]   \n",
       "329  Katherine  Christian                                       [Spark, C++]   \n",
       "..         ...        ...                                                ...   \n",
       "473      Haley       Reed                    [R, SQL, Java, skLearn, Python]   \n",
       "305     Travis     Willis              [SQL, MongoDB, Java, Python, skLearn]   \n",
       "301    Miranda   Mitchell  [C++, R, Java, Python, SQL, Spark, MongoDB, sk...   \n",
       "232      Peter     Torres  [R, MongoDB, SQL, TensorFlow, Java, Spark, skL...   \n",
       "336    Dominic     Rivera  [Python, skLearn, MongoDB, C++, SQL, TensorFlo...   \n",
       "\n",
       "    state         specialty experience relocation  \n",
       "37     AK  Machine Learning        Mid      maybe  \n",
       "406    AK        Statistics     Senior        yes  \n",
       "302    AK        Statistics        Mid      maybe  \n",
       "186    AK  Machine Learning        Mid         no  \n",
       "329    AK        Statistics     Senior         no  \n",
       "..    ...               ...        ...        ...  \n",
       "473    WY        Statistics     Junior         no  \n",
       "305    WY          Database        Mid         no  \n",
       "301    WY        Statistics        Mid      maybe  \n",
       "232    WY  Machine Learning        Mid        yes  \n",
       "336    WY  Machine Learning     Junior         no  \n",
       "\n",
       "[500 rows x 7 columns]"
      ]
     },
     "execution_count": 69,
     "metadata": {},
     "output_type": "execute_result"
    }
   ],
   "source": [
    "c.sort_values(\"state\")"
   ]
  },
  {
   "cell_type": "code",
   "execution_count": 73,
   "id": "50048283",
   "metadata": {},
   "outputs": [
    {
     "data": {
      "text/plain": [
       "array(['AL', 'AR', 'UT', 'FL', 'WY', 'OK', 'NM', 'TX', 'WI', 'PA', 'NV',\n",
       "       'MO', 'ID', 'KY', 'NE', 'WV', 'NC', 'TN', 'CT', 'IN', 'ND', 'HI',\n",
       "       'NJ', 'GA', 'CO', 'LA', 'AK', 'SD', 'MA', 'MT', 'SC', 'NY', 'DE',\n",
       "       'IL', 'AZ', 'IA', 'WA', 'VA', 'RI', 'MD', 'CA', 'OR', 'ME', 'OH',\n",
       "       'KS', 'MN', 'MI', 'MS', 'NH', 'VT'], dtype=object)"
      ]
     },
     "execution_count": 73,
     "metadata": {},
     "output_type": "execute_result"
    }
   ],
   "source": [
    "c[\"state\"].unique()"
   ]
  },
  {
   "cell_type": "code",
   "execution_count": 74,
   "id": "2bc9e583",
   "metadata": {},
   "outputs": [
    {
     "data": {
      "text/plain": [
       "11"
      ]
     },
     "execution_count": 74,
     "metadata": {},
     "output_type": "execute_result"
    }
   ],
   "source": [
    "# total candidates staying at \"WY\":\n",
    "\n",
    "c[c[\"state\"]==\"WY\"].shape[0]"
   ]
  },
  {
   "cell_type": "code",
   "execution_count": 76,
   "id": "336efaa3",
   "metadata": {},
   "outputs": [
    {
     "data": {
      "text/plain": [
       "13"
      ]
     },
     "execution_count": 76,
     "metadata": {},
     "output_type": "execute_result"
    }
   ],
   "source": [
    "c[c[\"state\"]==\"MN\"].shape[0]"
   ]
  },
  {
   "cell_type": "code",
   "execution_count": 77,
   "id": "1d093532",
   "metadata": {},
   "outputs": [
    {
     "data": {
      "text/plain": [
       "10"
      ]
     },
     "execution_count": 77,
     "metadata": {},
     "output_type": "execute_result"
    }
   ],
   "source": [
    "c[c[\"state\"]==\"AK\"].shape[0]"
   ]
  },
  {
   "cell_type": "code",
   "execution_count": null,
   "id": "c265cbae",
   "metadata": {},
   "outputs": [],
   "source": []
  },
  {
   "cell_type": "code",
   "execution_count": 78,
   "id": "aac121b0",
   "metadata": {},
   "outputs": [
    {
     "data": {
      "text/plain": [
       "array(['Mid', 'Senior', 'Junior'], dtype=object)"
      ]
     },
     "execution_count": 78,
     "metadata": {},
     "output_type": "execute_result"
    }
   ],
   "source": [
    "c[\"experience\"].unique()\n"
   ]
  },
  {
   "cell_type": "code",
   "execution_count": 80,
   "id": "8681b924",
   "metadata": {},
   "outputs": [
    {
     "data": {
      "text/plain": [
       "179"
      ]
     },
     "execution_count": 80,
     "metadata": {},
     "output_type": "execute_result"
    }
   ],
   "source": [
    "#total candidates having \"Mid\" experience:\n",
    "\n",
    "c[c[\"experience\"]==\"Mid\"].shape[0]"
   ]
  },
  {
   "cell_type": "code",
   "execution_count": 81,
   "id": "28df6769",
   "metadata": {},
   "outputs": [
    {
     "data": {
      "text/plain": [
       "163"
      ]
     },
     "execution_count": 81,
     "metadata": {},
     "output_type": "execute_result"
    }
   ],
   "source": [
    "c[c[\"experience\"]==\"Senior\"].shape[0]"
   ]
  },
  {
   "cell_type": "code",
   "execution_count": 82,
   "id": "53549ed6",
   "metadata": {},
   "outputs": [
    {
     "data": {
      "text/plain": [
       "158"
      ]
     },
     "execution_count": 82,
     "metadata": {},
     "output_type": "execute_result"
    }
   ],
   "source": [
    "c[c[\"experience\"]==\"Junior\"].shape[0]"
   ]
  },
  {
   "cell_type": "code",
   "execution_count": null,
   "id": "7293c041",
   "metadata": {},
   "outputs": [],
   "source": []
  },
  {
   "cell_type": "code",
   "execution_count": 83,
   "id": "8540d3d7",
   "metadata": {},
   "outputs": [],
   "source": []
  },
  {
   "cell_type": "code",
   "execution_count": null,
   "id": "8f1b465d",
   "metadata": {},
   "outputs": [],
   "source": []
  },
  {
   "cell_type": "code",
   "execution_count": null,
   "id": "3747d61e",
   "metadata": {},
   "outputs": [],
   "source": []
  }
 ],
 "metadata": {
  "kernelspec": {
   "display_name": "Python 3",
   "language": "python",
   "name": "python3"
  },
  "language_info": {
   "codemirror_mode": {
    "name": "ipython",
    "version": 3
   },
   "file_extension": ".py",
   "mimetype": "text/x-python",
   "name": "python",
   "nbconvert_exporter": "python",
   "pygments_lexer": "ipython3",
   "version": "3.8.8"
  }
 },
 "nbformat": 4,
 "nbformat_minor": 5
}
